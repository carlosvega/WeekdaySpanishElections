{
 "cells": [
  {
   "cell_type": "code",
   "execution_count": 2,
   "metadata": {},
   "outputs": [
    {
     "name": "stdout",
     "output_type": "stream",
     "text": [
      "Collecting plotly\n",
      "  Downloading plotly-4.14.3-py2.py3-none-any.whl (13.2 MB)\n",
      "\u001b[K     |████████████████████████████████| 13.2 MB 1.9 MB/s eta 0:00:01\n",
      "\u001b[?25hCollecting retrying>=1.3.3\n",
      "  Downloading retrying-1.3.3.tar.gz (10 kB)\n",
      "Requirement already satisfied: six in /Users/carlos.vega/dev/biokc-paper/env/lib/python3.8/site-packages (from plotly) (1.15.0)\n",
      "Building wheels for collected packages: retrying\n",
      "  Building wheel for retrying (setup.py) ... \u001b[?25ldone\n",
      "\u001b[?25h  Created wheel for retrying: filename=retrying-1.3.3-py3-none-any.whl size=11429 sha256=ebb5c09198510a0d1649f4593d14ff9560cc05d3c5502639958b5f6491503aa8\n",
      "  Stored in directory: /Users/carlos.vega/Library/Caches/pip/wheels/c4/a7/48/0a434133f6d56e878ca511c0e6c38326907c0792f67b476e56\n",
      "Successfully built retrying\n",
      "Installing collected packages: retrying, plotly\n",
      "Successfully installed plotly-4.14.3 retrying-1.3.3\n",
      "\u001b[33mWARNING: You are using pip version 20.2.2; however, version 21.0.1 is available.\n",
      "You should consider upgrading via the '/Users/carlos.vega/dev/biokc-paper/env/bin/python -m pip install --upgrade pip' command.\u001b[0m\n",
      "Note: you may need to restart the kernel to use updated packages.\n"
     ]
    }
   ],
   "source": [
    "%pip install plotly"
   ]
  },
  {
   "cell_type": "code",
   "execution_count": 16,
   "metadata": {},
   "outputs": [
    {
     "data": {
      "text/html": [
       "        <script type=\"text/javascript\">\n",
       "        window.PlotlyConfig = {MathJaxConfig: 'local'};\n",
       "        if (window.MathJax) {MathJax.Hub.Config({SVG: {font: \"STIX-Web\"}});}\n",
       "        if (typeof require !== 'undefined') {\n",
       "        require.undef(\"plotly\");\n",
       "        requirejs.config({\n",
       "            paths: {\n",
       "                'plotly': ['https://cdn.plot.ly/plotly-latest.min']\n",
       "            }\n",
       "        });\n",
       "        require(['plotly'], function(Plotly) {\n",
       "            window._Plotly = Plotly;\n",
       "        });\n",
       "        }\n",
       "        </script>\n",
       "        "
      ]
     },
     "metadata": {},
     "output_type": "display_data"
    }
   ],
   "source": [
    "#init_notebook_mode(connected=True)\n",
    "%matplotlib inline\n",
    "import matplotlib, plotly, fileinput\n",
    "import matplotlib.pyplot as plt\n",
    "import pandas as pd \n",
    "from collections import Counter\n",
    "\n",
    "from plotly.offline import plot, iplot, init_notebook_mode\n",
    "import plotly.graph_objs as go\n",
    "init_notebook_mode(connected=True)"
   ]
  },
  {
   "cell_type": "code",
   "execution_count": 43,
   "metadata": {},
   "outputs": [],
   "source": [
    "dates = []\n",
    "for line in fileinput.input('dates.txt'):\n",
    "    line = line.rstrip()\n",
    "    \n",
    "    #ignore lines starting with # or ending with ?\n",
    "    if line[0] == '#' or line[-1] == '?':\n",
    "        continue\n",
    "    \n",
    "    _, date = line.split('|') # split lines\n",
    "    date = date.replace('', '') # remove spaces\n",
    "    dates.append(pd.Timestamp(date))\n",
    "    \n",
    "dates = sorted(list(set(dates))) #Multiple elections happening on the same date are considered as one."
   ]
  },
  {
   "cell_type": "code",
   "execution_count": null,
   "metadata": {
    "hideOutput": true
   },
   "outputs": [],
   "source": []
  },
  {
   "cell_type": "code",
   "execution_count": 44,
   "metadata": {},
   "outputs": [
    {
     "name": "stdout",
     "output_type": "stream",
     "text": [
      "All [12, 7, 12, 11, 11, 9, 73] ['Monday', 'Tuesday', 'Wednesday', 'Thursday', 'Friday', 'Saturday', 'Sunday']\n"
     ]
    }
   ],
   "source": [
    "colors = ['#eebcbc', '#eedeab', '#c8ecb5', '#bcc2f2', '#e8b6ee', '#b25a86', '#546e85']\n",
    "\n",
    "#all data together\n",
    "d = Counter([t.day_name() for t in dates])\n",
    "labels = ['Monday', 'Tuesday', 'Wednesday', 'Thursday', 'Friday', 'Saturday', 'Sunday']\n",
    "all_values = [d[l] for l in labels]\n",
    "\n",
    "empty_trace = go.Pie(labels=['None'], values=[100],\n",
    "               hoverinfo='label+percent', textinfo='value', \n",
    "               textfont=dict(size=20), name='None',\n",
    "               marker=dict(colors=colors, \n",
    "                           line=dict(color='#000000', width=2)))\n",
    "\n",
    "main_trace = go.Pie(labels=labels, values=all_values,\n",
    "               hoverinfo='label+percent', textinfo='value', \n",
    "               textfont=dict(size=20), name='Total',\n",
    "               marker=dict(colors=colors, \n",
    "                           line=dict(color='#000000', width=2)))\n",
    "\n",
    "print('All', all_values, labels)"
   ]
  },
  {
   "cell_type": "code",
   "execution_count": 45,
   "metadata": {},
   "outputs": [
    {
     "name": "stdout",
     "output_type": "stream",
     "text": [
      "1830 [1, 3, 2] ['Monday', 'Wednesday', 'Friday']\n",
      "1840 [1, 2, 2, 1] ['Monday', 'Friday', 'Saturday', 'Sunday']\n",
      "1850 [1, 1, 2, 2] ['Monday', 'Wednesday', 'Saturday', 'Sunday']\n",
      "1860 [2, 2, 1] ['Tuesday', 'Thursday', 'Friday']\n",
      "1870 [1, 2, 1, 2] ['Monday', 'Thursday', 'Saturday', 'Sunday']\n",
      "1880 [1, 2] ['Saturday', 'Sunday']\n",
      "1890 [1, 2, 2] ['Wednesday', 'Friday', 'Sunday']\n",
      "1900 [1, 1, 2] ['Monday', 'Thursday', 'Sunday']\n",
      "1910 [3, 1, 1] ['Monday', 'Friday', 'Sunday']\n",
      "1920 [2, 1] ['Tuesday', 'Sunday']\n",
      "1930 [1, 7] ['Friday', 'Sunday']\n",
      "1970 [1, 3, 1, 1] ['Monday', 'Wednesday', 'Thursday', 'Sunday']\n",
      "1980 [2, 2, 4, 1, 1, 9] ['Tuesday', 'Wednesday', 'Thursday', 'Friday', 'Saturday', 'Sunday']\n",
      "1990 [1, 1, 13] ['Tuesday', 'Saturday', 'Sunday']\n",
      "2000 [1, 2, 1, 14] ['Monday', 'Wednesday', 'Saturday', 'Sunday']\n",
      "2010 [1, 1, 1, 15] ['Monday', 'Thursday', 'Friday', 'Sunday']\n",
      "2020 [1, 1] ['Monday', 'Sunday']\n"
     ]
    }
   ],
   "source": [
    "#per decade\n",
    "weekday_per_decade = {}\n",
    "\n",
    "for t in dates:\n",
    "    decade = (t.year//10)*10\n",
    "    #print(decade, t.day_name())\n",
    "    if decade not in weekday_per_decade:\n",
    "        weekday_per_decade[decade] = []\n",
    "    weekday_per_decade[decade].append(t.day_name())\n",
    "\n",
    "#traces\n",
    "traces = []\n",
    "for decade in weekday_per_decade:\n",
    "    c = Counter(weekday_per_decade[decade])\n",
    "    weekday_per_decade[decade] = c\n",
    "    \n",
    "    current_values = []\n",
    "    current_labels = []\n",
    "    current_colors = []\n",
    "    for j, l in enumerate(labels):\n",
    "        if c[l] > 0:\n",
    "            current_labels.append(l)\n",
    "            current_values.append(c[l])\n",
    "            current_colors.append(colors[j])\n",
    "    \n",
    "    g = go.Pie(labels=current_labels, values=current_values,\n",
    "               hoverinfo='label+percent', textinfo='value', \n",
    "               textfont=dict(size=20), name=str(decade),\n",
    "               marker=dict(colors=current_colors, \n",
    "                           line=dict(color='#000000', width=2)))\n",
    "    traces.append(g)\n",
    "    print(decade, current_values, current_labels)\n",
    "\n",
    "traces += [main_trace]#, empty_trace]\n",
    "#traces"
   ]
  },
  {
   "cell_type": "code",
   "execution_count": 46,
   "metadata": {},
   "outputs": [],
   "source": [
    "#button list\n",
    "\n",
    "keys = list(weekday_per_decade.keys())\n",
    "keys += ['Total']#, 'None']\n",
    "\n",
    "button_list = []\n",
    "for i, decade in enumerate(keys):\n",
    "    #mask\n",
    "    bools = [False]*len(keys)\n",
    "    bools[i] = True\n",
    "    if i != len(keys)-1:\n",
    "        label = str(decade)\n",
    "        title = 'Elections or referendums celebrated during the decade: {}'.format(decade)\n",
    "    else:\n",
    "        label = 'Total'\n",
    "        title = 'All elections or referendums celebrated in total since 1830'\n",
    "    #button\n",
    "    button = {\n",
    "        'label': label,\n",
    "        'method': 'update',\n",
    "        'args': [{'visible': bools}, \n",
    "              {'title': title}]\n",
    "    }\n",
    "    #add\n",
    "    button_list.append(button)\n",
    "    \n"
   ]
  },
  {
   "cell_type": "code",
   "execution_count": 47,
   "metadata": {
    "scrolled": false
   },
   "outputs": [
    {
     "data": {
      "application/vnd.plotly.v1+json": {
       "config": {
        "linkText": "Export to plot.ly",
        "plotlyServerURL": "https://plot.ly",
        "showLink": false
       },
       "data": [
        {
         "hoverinfo": "label+percent",
         "labels": [
          "Monday",
          "Wednesday",
          "Friday"
         ],
         "marker": {
          "colors": [
           "#eebcbc",
           "#c8ecb5",
           "#e8b6ee"
          ],
          "line": {
           "color": "#000000",
           "width": 2
          }
         },
         "name": "1830",
         "textfont": {
          "size": 20
         },
         "textinfo": "value",
         "type": "pie",
         "values": [
          1,
          3,
          2
         ]
        },
        {
         "hoverinfo": "label+percent",
         "labels": [
          "Monday",
          "Friday",
          "Saturday",
          "Sunday"
         ],
         "marker": {
          "colors": [
           "#eebcbc",
           "#e8b6ee",
           "#b25a86",
           "#546e85"
          ],
          "line": {
           "color": "#000000",
           "width": 2
          }
         },
         "name": "1840",
         "textfont": {
          "size": 20
         },
         "textinfo": "value",
         "type": "pie",
         "values": [
          1,
          2,
          2,
          1
         ]
        },
        {
         "hoverinfo": "label+percent",
         "labels": [
          "Monday",
          "Wednesday",
          "Saturday",
          "Sunday"
         ],
         "marker": {
          "colors": [
           "#eebcbc",
           "#c8ecb5",
           "#b25a86",
           "#546e85"
          ],
          "line": {
           "color": "#000000",
           "width": 2
          }
         },
         "name": "1850",
         "textfont": {
          "size": 20
         },
         "textinfo": "value",
         "type": "pie",
         "values": [
          1,
          1,
          2,
          2
         ]
        },
        {
         "hoverinfo": "label+percent",
         "labels": [
          "Tuesday",
          "Thursday",
          "Friday"
         ],
         "marker": {
          "colors": [
           "#eedeab",
           "#bcc2f2",
           "#e8b6ee"
          ],
          "line": {
           "color": "#000000",
           "width": 2
          }
         },
         "name": "1860",
         "textfont": {
          "size": 20
         },
         "textinfo": "value",
         "type": "pie",
         "values": [
          2,
          2,
          1
         ]
        },
        {
         "hoverinfo": "label+percent",
         "labels": [
          "Monday",
          "Thursday",
          "Saturday",
          "Sunday"
         ],
         "marker": {
          "colors": [
           "#eebcbc",
           "#bcc2f2",
           "#b25a86",
           "#546e85"
          ],
          "line": {
           "color": "#000000",
           "width": 2
          }
         },
         "name": "1870",
         "textfont": {
          "size": 20
         },
         "textinfo": "value",
         "type": "pie",
         "values": [
          1,
          2,
          1,
          2
         ]
        },
        {
         "hoverinfo": "label+percent",
         "labels": [
          "Saturday",
          "Sunday"
         ],
         "marker": {
          "colors": [
           "#b25a86",
           "#546e85"
          ],
          "line": {
           "color": "#000000",
           "width": 2
          }
         },
         "name": "1880",
         "textfont": {
          "size": 20
         },
         "textinfo": "value",
         "type": "pie",
         "values": [
          1,
          2
         ]
        },
        {
         "hoverinfo": "label+percent",
         "labels": [
          "Wednesday",
          "Friday",
          "Sunday"
         ],
         "marker": {
          "colors": [
           "#c8ecb5",
           "#e8b6ee",
           "#546e85"
          ],
          "line": {
           "color": "#000000",
           "width": 2
          }
         },
         "name": "1890",
         "textfont": {
          "size": 20
         },
         "textinfo": "value",
         "type": "pie",
         "values": [
          1,
          2,
          2
         ]
        },
        {
         "hoverinfo": "label+percent",
         "labels": [
          "Monday",
          "Thursday",
          "Sunday"
         ],
         "marker": {
          "colors": [
           "#eebcbc",
           "#bcc2f2",
           "#546e85"
          ],
          "line": {
           "color": "#000000",
           "width": 2
          }
         },
         "name": "1900",
         "textfont": {
          "size": 20
         },
         "textinfo": "value",
         "type": "pie",
         "values": [
          1,
          1,
          2
         ]
        },
        {
         "hoverinfo": "label+percent",
         "labels": [
          "Monday",
          "Friday",
          "Sunday"
         ],
         "marker": {
          "colors": [
           "#eebcbc",
           "#e8b6ee",
           "#546e85"
          ],
          "line": {
           "color": "#000000",
           "width": 2
          }
         },
         "name": "1910",
         "textfont": {
          "size": 20
         },
         "textinfo": "value",
         "type": "pie",
         "values": [
          3,
          1,
          1
         ]
        },
        {
         "hoverinfo": "label+percent",
         "labels": [
          "Tuesday",
          "Sunday"
         ],
         "marker": {
          "colors": [
           "#eedeab",
           "#546e85"
          ],
          "line": {
           "color": "#000000",
           "width": 2
          }
         },
         "name": "1920",
         "textfont": {
          "size": 20
         },
         "textinfo": "value",
         "type": "pie",
         "values": [
          2,
          1
         ]
        },
        {
         "hoverinfo": "label+percent",
         "labels": [
          "Friday",
          "Sunday"
         ],
         "marker": {
          "colors": [
           "#e8b6ee",
           "#546e85"
          ],
          "line": {
           "color": "#000000",
           "width": 2
          }
         },
         "name": "1930",
         "textfont": {
          "size": 20
         },
         "textinfo": "value",
         "type": "pie",
         "values": [
          1,
          7
         ]
        },
        {
         "hoverinfo": "label+percent",
         "labels": [
          "Monday",
          "Wednesday",
          "Thursday",
          "Sunday"
         ],
         "marker": {
          "colors": [
           "#eebcbc",
           "#c8ecb5",
           "#bcc2f2",
           "#546e85"
          ],
          "line": {
           "color": "#000000",
           "width": 2
          }
         },
         "name": "1970",
         "textfont": {
          "size": 20
         },
         "textinfo": "value",
         "type": "pie",
         "values": [
          1,
          3,
          1,
          1
         ]
        },
        {
         "hoverinfo": "label+percent",
         "labels": [
          "Tuesday",
          "Wednesday",
          "Thursday",
          "Friday",
          "Saturday",
          "Sunday"
         ],
         "marker": {
          "colors": [
           "#eedeab",
           "#c8ecb5",
           "#bcc2f2",
           "#e8b6ee",
           "#b25a86",
           "#546e85"
          ],
          "line": {
           "color": "#000000",
           "width": 2
          }
         },
         "name": "1980",
         "textfont": {
          "size": 20
         },
         "textinfo": "value",
         "type": "pie",
         "values": [
          2,
          2,
          4,
          1,
          1,
          9
         ]
        },
        {
         "hoverinfo": "label+percent",
         "labels": [
          "Tuesday",
          "Saturday",
          "Sunday"
         ],
         "marker": {
          "colors": [
           "#eedeab",
           "#b25a86",
           "#546e85"
          ],
          "line": {
           "color": "#000000",
           "width": 2
          }
         },
         "name": "1990",
         "textfont": {
          "size": 20
         },
         "textinfo": "value",
         "type": "pie",
         "values": [
          1,
          1,
          13
         ]
        },
        {
         "hoverinfo": "label+percent",
         "labels": [
          "Monday",
          "Wednesday",
          "Saturday",
          "Sunday"
         ],
         "marker": {
          "colors": [
           "#eebcbc",
           "#c8ecb5",
           "#b25a86",
           "#546e85"
          ],
          "line": {
           "color": "#000000",
           "width": 2
          }
         },
         "name": "2000",
         "textfont": {
          "size": 20
         },
         "textinfo": "value",
         "type": "pie",
         "values": [
          1,
          2,
          1,
          14
         ]
        },
        {
         "hoverinfo": "label+percent",
         "labels": [
          "Monday",
          "Thursday",
          "Friday",
          "Sunday"
         ],
         "marker": {
          "colors": [
           "#eebcbc",
           "#bcc2f2",
           "#e8b6ee",
           "#546e85"
          ],
          "line": {
           "color": "#000000",
           "width": 2
          }
         },
         "name": "2010",
         "textfont": {
          "size": 20
         },
         "textinfo": "value",
         "type": "pie",
         "values": [
          1,
          1,
          1,
          15
         ]
        },
        {
         "hoverinfo": "label+percent",
         "labels": [
          "Monday",
          "Sunday"
         ],
         "marker": {
          "colors": [
           "#eebcbc",
           "#546e85"
          ],
          "line": {
           "color": "#000000",
           "width": 2
          }
         },
         "name": "2020",
         "textfont": {
          "size": 20
         },
         "textinfo": "value",
         "type": "pie",
         "values": [
          1,
          1
         ]
        },
        {
         "hoverinfo": "label+percent",
         "labels": [
          "Monday",
          "Tuesday",
          "Wednesday",
          "Thursday",
          "Friday",
          "Saturday",
          "Sunday"
         ],
         "marker": {
          "colors": [
           "#eebcbc",
           "#eedeab",
           "#c8ecb5",
           "#bcc2f2",
           "#e8b6ee",
           "#b25a86",
           "#546e85"
          ],
          "line": {
           "color": "#000000",
           "width": 2
          }
         },
         "name": "Total",
         "textfont": {
          "size": 20
         },
         "textinfo": "value",
         "type": "pie",
         "values": [
          12,
          7,
          12,
          11,
          11,
          9,
          73
         ]
        }
       ],
       "layout": {
        "annotations": [
         {
          "align": "center",
          "arrowhead": 0,
          "showarrow": false,
          "text": "Checkout the GitHub <a href=\"https://carlosvega.github.io/Weekday_ESP_Elections/\">repository</a> for more.<br>Multiple elections happening on the same date are considered as one.",
          "visible": true,
          "x": 0.5,
          "xref": "paper",
          "xshift": 0,
          "y": 0,
          "yref": "paper",
          "yshift": -40
         }
        ],
        "showlegend": true,
        "template": {
         "data": {
          "bar": [
           {
            "error_x": {
             "color": "#2a3f5f"
            },
            "error_y": {
             "color": "#2a3f5f"
            },
            "marker": {
             "line": {
              "color": "#E5ECF6",
              "width": 0.5
             }
            },
            "type": "bar"
           }
          ],
          "barpolar": [
           {
            "marker": {
             "line": {
              "color": "#E5ECF6",
              "width": 0.5
             }
            },
            "type": "barpolar"
           }
          ],
          "carpet": [
           {
            "aaxis": {
             "endlinecolor": "#2a3f5f",
             "gridcolor": "white",
             "linecolor": "white",
             "minorgridcolor": "white",
             "startlinecolor": "#2a3f5f"
            },
            "baxis": {
             "endlinecolor": "#2a3f5f",
             "gridcolor": "white",
             "linecolor": "white",
             "minorgridcolor": "white",
             "startlinecolor": "#2a3f5f"
            },
            "type": "carpet"
           }
          ],
          "choropleth": [
           {
            "colorbar": {
             "outlinewidth": 0,
             "ticks": ""
            },
            "type": "choropleth"
           }
          ],
          "contour": [
           {
            "colorbar": {
             "outlinewidth": 0,
             "ticks": ""
            },
            "colorscale": [
             [
              0,
              "#0d0887"
             ],
             [
              0.1111111111111111,
              "#46039f"
             ],
             [
              0.2222222222222222,
              "#7201a8"
             ],
             [
              0.3333333333333333,
              "#9c179e"
             ],
             [
              0.4444444444444444,
              "#bd3786"
             ],
             [
              0.5555555555555556,
              "#d8576b"
             ],
             [
              0.6666666666666666,
              "#ed7953"
             ],
             [
              0.7777777777777778,
              "#fb9f3a"
             ],
             [
              0.8888888888888888,
              "#fdca26"
             ],
             [
              1,
              "#f0f921"
             ]
            ],
            "type": "contour"
           }
          ],
          "contourcarpet": [
           {
            "colorbar": {
             "outlinewidth": 0,
             "ticks": ""
            },
            "type": "contourcarpet"
           }
          ],
          "heatmap": [
           {
            "colorbar": {
             "outlinewidth": 0,
             "ticks": ""
            },
            "colorscale": [
             [
              0,
              "#0d0887"
             ],
             [
              0.1111111111111111,
              "#46039f"
             ],
             [
              0.2222222222222222,
              "#7201a8"
             ],
             [
              0.3333333333333333,
              "#9c179e"
             ],
             [
              0.4444444444444444,
              "#bd3786"
             ],
             [
              0.5555555555555556,
              "#d8576b"
             ],
             [
              0.6666666666666666,
              "#ed7953"
             ],
             [
              0.7777777777777778,
              "#fb9f3a"
             ],
             [
              0.8888888888888888,
              "#fdca26"
             ],
             [
              1,
              "#f0f921"
             ]
            ],
            "type": "heatmap"
           }
          ],
          "heatmapgl": [
           {
            "colorbar": {
             "outlinewidth": 0,
             "ticks": ""
            },
            "colorscale": [
             [
              0,
              "#0d0887"
             ],
             [
              0.1111111111111111,
              "#46039f"
             ],
             [
              0.2222222222222222,
              "#7201a8"
             ],
             [
              0.3333333333333333,
              "#9c179e"
             ],
             [
              0.4444444444444444,
              "#bd3786"
             ],
             [
              0.5555555555555556,
              "#d8576b"
             ],
             [
              0.6666666666666666,
              "#ed7953"
             ],
             [
              0.7777777777777778,
              "#fb9f3a"
             ],
             [
              0.8888888888888888,
              "#fdca26"
             ],
             [
              1,
              "#f0f921"
             ]
            ],
            "type": "heatmapgl"
           }
          ],
          "histogram": [
           {
            "marker": {
             "colorbar": {
              "outlinewidth": 0,
              "ticks": ""
             }
            },
            "type": "histogram"
           }
          ],
          "histogram2d": [
           {
            "colorbar": {
             "outlinewidth": 0,
             "ticks": ""
            },
            "colorscale": [
             [
              0,
              "#0d0887"
             ],
             [
              0.1111111111111111,
              "#46039f"
             ],
             [
              0.2222222222222222,
              "#7201a8"
             ],
             [
              0.3333333333333333,
              "#9c179e"
             ],
             [
              0.4444444444444444,
              "#bd3786"
             ],
             [
              0.5555555555555556,
              "#d8576b"
             ],
             [
              0.6666666666666666,
              "#ed7953"
             ],
             [
              0.7777777777777778,
              "#fb9f3a"
             ],
             [
              0.8888888888888888,
              "#fdca26"
             ],
             [
              1,
              "#f0f921"
             ]
            ],
            "type": "histogram2d"
           }
          ],
          "histogram2dcontour": [
           {
            "colorbar": {
             "outlinewidth": 0,
             "ticks": ""
            },
            "colorscale": [
             [
              0,
              "#0d0887"
             ],
             [
              0.1111111111111111,
              "#46039f"
             ],
             [
              0.2222222222222222,
              "#7201a8"
             ],
             [
              0.3333333333333333,
              "#9c179e"
             ],
             [
              0.4444444444444444,
              "#bd3786"
             ],
             [
              0.5555555555555556,
              "#d8576b"
             ],
             [
              0.6666666666666666,
              "#ed7953"
             ],
             [
              0.7777777777777778,
              "#fb9f3a"
             ],
             [
              0.8888888888888888,
              "#fdca26"
             ],
             [
              1,
              "#f0f921"
             ]
            ],
            "type": "histogram2dcontour"
           }
          ],
          "mesh3d": [
           {
            "colorbar": {
             "outlinewidth": 0,
             "ticks": ""
            },
            "type": "mesh3d"
           }
          ],
          "parcoords": [
           {
            "line": {
             "colorbar": {
              "outlinewidth": 0,
              "ticks": ""
             }
            },
            "type": "parcoords"
           }
          ],
          "pie": [
           {
            "automargin": true,
            "type": "pie"
           }
          ],
          "scatter": [
           {
            "marker": {
             "colorbar": {
              "outlinewidth": 0,
              "ticks": ""
             }
            },
            "type": "scatter"
           }
          ],
          "scatter3d": [
           {
            "line": {
             "colorbar": {
              "outlinewidth": 0,
              "ticks": ""
             }
            },
            "marker": {
             "colorbar": {
              "outlinewidth": 0,
              "ticks": ""
             }
            },
            "type": "scatter3d"
           }
          ],
          "scattercarpet": [
           {
            "marker": {
             "colorbar": {
              "outlinewidth": 0,
              "ticks": ""
             }
            },
            "type": "scattercarpet"
           }
          ],
          "scattergeo": [
           {
            "marker": {
             "colorbar": {
              "outlinewidth": 0,
              "ticks": ""
             }
            },
            "type": "scattergeo"
           }
          ],
          "scattergl": [
           {
            "marker": {
             "colorbar": {
              "outlinewidth": 0,
              "ticks": ""
             }
            },
            "type": "scattergl"
           }
          ],
          "scattermapbox": [
           {
            "marker": {
             "colorbar": {
              "outlinewidth": 0,
              "ticks": ""
             }
            },
            "type": "scattermapbox"
           }
          ],
          "scatterpolar": [
           {
            "marker": {
             "colorbar": {
              "outlinewidth": 0,
              "ticks": ""
             }
            },
            "type": "scatterpolar"
           }
          ],
          "scatterpolargl": [
           {
            "marker": {
             "colorbar": {
              "outlinewidth": 0,
              "ticks": ""
             }
            },
            "type": "scatterpolargl"
           }
          ],
          "scatterternary": [
           {
            "marker": {
             "colorbar": {
              "outlinewidth": 0,
              "ticks": ""
             }
            },
            "type": "scatterternary"
           }
          ],
          "surface": [
           {
            "colorbar": {
             "outlinewidth": 0,
             "ticks": ""
            },
            "colorscale": [
             [
              0,
              "#0d0887"
             ],
             [
              0.1111111111111111,
              "#46039f"
             ],
             [
              0.2222222222222222,
              "#7201a8"
             ],
             [
              0.3333333333333333,
              "#9c179e"
             ],
             [
              0.4444444444444444,
              "#bd3786"
             ],
             [
              0.5555555555555556,
              "#d8576b"
             ],
             [
              0.6666666666666666,
              "#ed7953"
             ],
             [
              0.7777777777777778,
              "#fb9f3a"
             ],
             [
              0.8888888888888888,
              "#fdca26"
             ],
             [
              1,
              "#f0f921"
             ]
            ],
            "type": "surface"
           }
          ],
          "table": [
           {
            "cells": {
             "fill": {
              "color": "#EBF0F8"
             },
             "line": {
              "color": "white"
             }
            },
            "header": {
             "fill": {
              "color": "#C8D4E3"
             },
             "line": {
              "color": "white"
             }
            },
            "type": "table"
           }
          ]
         },
         "layout": {
          "annotationdefaults": {
           "arrowcolor": "#2a3f5f",
           "arrowhead": 0,
           "arrowwidth": 1
          },
          "autotypenumbers": "strict",
          "coloraxis": {
           "colorbar": {
            "outlinewidth": 0,
            "ticks": ""
           }
          },
          "colorscale": {
           "diverging": [
            [
             0,
             "#8e0152"
            ],
            [
             0.1,
             "#c51b7d"
            ],
            [
             0.2,
             "#de77ae"
            ],
            [
             0.3,
             "#f1b6da"
            ],
            [
             0.4,
             "#fde0ef"
            ],
            [
             0.5,
             "#f7f7f7"
            ],
            [
             0.6,
             "#e6f5d0"
            ],
            [
             0.7,
             "#b8e186"
            ],
            [
             0.8,
             "#7fbc41"
            ],
            [
             0.9,
             "#4d9221"
            ],
            [
             1,
             "#276419"
            ]
           ],
           "sequential": [
            [
             0,
             "#0d0887"
            ],
            [
             0.1111111111111111,
             "#46039f"
            ],
            [
             0.2222222222222222,
             "#7201a8"
            ],
            [
             0.3333333333333333,
             "#9c179e"
            ],
            [
             0.4444444444444444,
             "#bd3786"
            ],
            [
             0.5555555555555556,
             "#d8576b"
            ],
            [
             0.6666666666666666,
             "#ed7953"
            ],
            [
             0.7777777777777778,
             "#fb9f3a"
            ],
            [
             0.8888888888888888,
             "#fdca26"
            ],
            [
             1,
             "#f0f921"
            ]
           ],
           "sequentialminus": [
            [
             0,
             "#0d0887"
            ],
            [
             0.1111111111111111,
             "#46039f"
            ],
            [
             0.2222222222222222,
             "#7201a8"
            ],
            [
             0.3333333333333333,
             "#9c179e"
            ],
            [
             0.4444444444444444,
             "#bd3786"
            ],
            [
             0.5555555555555556,
             "#d8576b"
            ],
            [
             0.6666666666666666,
             "#ed7953"
            ],
            [
             0.7777777777777778,
             "#fb9f3a"
            ],
            [
             0.8888888888888888,
             "#fdca26"
            ],
            [
             1,
             "#f0f921"
            ]
           ]
          },
          "colorway": [
           "#636efa",
           "#EF553B",
           "#00cc96",
           "#ab63fa",
           "#FFA15A",
           "#19d3f3",
           "#FF6692",
           "#B6E880",
           "#FF97FF",
           "#FECB52"
          ],
          "font": {
           "color": "#2a3f5f"
          },
          "geo": {
           "bgcolor": "white",
           "lakecolor": "white",
           "landcolor": "#E5ECF6",
           "showlakes": true,
           "showland": true,
           "subunitcolor": "white"
          },
          "hoverlabel": {
           "align": "left"
          },
          "hovermode": "closest",
          "mapbox": {
           "style": "light"
          },
          "paper_bgcolor": "white",
          "plot_bgcolor": "#E5ECF6",
          "polar": {
           "angularaxis": {
            "gridcolor": "white",
            "linecolor": "white",
            "ticks": ""
           },
           "bgcolor": "#E5ECF6",
           "radialaxis": {
            "gridcolor": "white",
            "linecolor": "white",
            "ticks": ""
           }
          },
          "scene": {
           "xaxis": {
            "backgroundcolor": "#E5ECF6",
            "gridcolor": "white",
            "gridwidth": 2,
            "linecolor": "white",
            "showbackground": true,
            "ticks": "",
            "zerolinecolor": "white"
           },
           "yaxis": {
            "backgroundcolor": "#E5ECF6",
            "gridcolor": "white",
            "gridwidth": 2,
            "linecolor": "white",
            "showbackground": true,
            "ticks": "",
            "zerolinecolor": "white"
           },
           "zaxis": {
            "backgroundcolor": "#E5ECF6",
            "gridcolor": "white",
            "gridwidth": 2,
            "linecolor": "white",
            "showbackground": true,
            "ticks": "",
            "zerolinecolor": "white"
           }
          },
          "shapedefaults": {
           "line": {
            "color": "#2a3f5f"
           }
          },
          "ternary": {
           "aaxis": {
            "gridcolor": "white",
            "linecolor": "white",
            "ticks": ""
           },
           "baxis": {
            "gridcolor": "white",
            "linecolor": "white",
            "ticks": ""
           },
           "bgcolor": "#E5ECF6",
           "caxis": {
            "gridcolor": "white",
            "linecolor": "white",
            "ticks": ""
           }
          },
          "title": {
           "x": 0.05
          },
          "xaxis": {
           "automargin": true,
           "gridcolor": "white",
           "linecolor": "white",
           "ticks": "",
           "title": {
            "standoff": 15
           },
           "zerolinecolor": "white",
           "zerolinewidth": 2
          },
          "yaxis": {
           "automargin": true,
           "gridcolor": "white",
           "linecolor": "white",
           "ticks": "",
           "title": {
            "standoff": 15
           },
           "zerolinecolor": "white",
           "zerolinewidth": 2
          }
         }
        },
        "title": {
         "text": "All elections or referendums celebrated in total since 1830"
        },
        "updatemenus": [
         {
          "active": 17,
          "buttons": [
           {
            "args": [
             {
              "visible": [
               true,
               false,
               false,
               false,
               false,
               false,
               false,
               false,
               false,
               false,
               false,
               false,
               false,
               false,
               false,
               false,
               false,
               false
              ]
             },
             {
              "title": "Elections or referendums celebrated during the decade: 1830"
             }
            ],
            "label": "1830",
            "method": "update"
           },
           {
            "args": [
             {
              "visible": [
               false,
               true,
               false,
               false,
               false,
               false,
               false,
               false,
               false,
               false,
               false,
               false,
               false,
               false,
               false,
               false,
               false,
               false
              ]
             },
             {
              "title": "Elections or referendums celebrated during the decade: 1840"
             }
            ],
            "label": "1840",
            "method": "update"
           },
           {
            "args": [
             {
              "visible": [
               false,
               false,
               true,
               false,
               false,
               false,
               false,
               false,
               false,
               false,
               false,
               false,
               false,
               false,
               false,
               false,
               false,
               false
              ]
             },
             {
              "title": "Elections or referendums celebrated during the decade: 1850"
             }
            ],
            "label": "1850",
            "method": "update"
           },
           {
            "args": [
             {
              "visible": [
               false,
               false,
               false,
               true,
               false,
               false,
               false,
               false,
               false,
               false,
               false,
               false,
               false,
               false,
               false,
               false,
               false,
               false
              ]
             },
             {
              "title": "Elections or referendums celebrated during the decade: 1860"
             }
            ],
            "label": "1860",
            "method": "update"
           },
           {
            "args": [
             {
              "visible": [
               false,
               false,
               false,
               false,
               true,
               false,
               false,
               false,
               false,
               false,
               false,
               false,
               false,
               false,
               false,
               false,
               false,
               false
              ]
             },
             {
              "title": "Elections or referendums celebrated during the decade: 1870"
             }
            ],
            "label": "1870",
            "method": "update"
           },
           {
            "args": [
             {
              "visible": [
               false,
               false,
               false,
               false,
               false,
               true,
               false,
               false,
               false,
               false,
               false,
               false,
               false,
               false,
               false,
               false,
               false,
               false
              ]
             },
             {
              "title": "Elections or referendums celebrated during the decade: 1880"
             }
            ],
            "label": "1880",
            "method": "update"
           },
           {
            "args": [
             {
              "visible": [
               false,
               false,
               false,
               false,
               false,
               false,
               true,
               false,
               false,
               false,
               false,
               false,
               false,
               false,
               false,
               false,
               false,
               false
              ]
             },
             {
              "title": "Elections or referendums celebrated during the decade: 1890"
             }
            ],
            "label": "1890",
            "method": "update"
           },
           {
            "args": [
             {
              "visible": [
               false,
               false,
               false,
               false,
               false,
               false,
               false,
               true,
               false,
               false,
               false,
               false,
               false,
               false,
               false,
               false,
               false,
               false
              ]
             },
             {
              "title": "Elections or referendums celebrated during the decade: 1900"
             }
            ],
            "label": "1900",
            "method": "update"
           },
           {
            "args": [
             {
              "visible": [
               false,
               false,
               false,
               false,
               false,
               false,
               false,
               false,
               true,
               false,
               false,
               false,
               false,
               false,
               false,
               false,
               false,
               false
              ]
             },
             {
              "title": "Elections or referendums celebrated during the decade: 1910"
             }
            ],
            "label": "1910",
            "method": "update"
           },
           {
            "args": [
             {
              "visible": [
               false,
               false,
               false,
               false,
               false,
               false,
               false,
               false,
               false,
               true,
               false,
               false,
               false,
               false,
               false,
               false,
               false,
               false
              ]
             },
             {
              "title": "Elections or referendums celebrated during the decade: 1920"
             }
            ],
            "label": "1920",
            "method": "update"
           },
           {
            "args": [
             {
              "visible": [
               false,
               false,
               false,
               false,
               false,
               false,
               false,
               false,
               false,
               false,
               true,
               false,
               false,
               false,
               false,
               false,
               false,
               false
              ]
             },
             {
              "title": "Elections or referendums celebrated during the decade: 1930"
             }
            ],
            "label": "1930",
            "method": "update"
           },
           {
            "args": [
             {
              "visible": [
               false,
               false,
               false,
               false,
               false,
               false,
               false,
               false,
               false,
               false,
               false,
               true,
               false,
               false,
               false,
               false,
               false,
               false
              ]
             },
             {
              "title": "Elections or referendums celebrated during the decade: 1970"
             }
            ],
            "label": "1970",
            "method": "update"
           },
           {
            "args": [
             {
              "visible": [
               false,
               false,
               false,
               false,
               false,
               false,
               false,
               false,
               false,
               false,
               false,
               false,
               true,
               false,
               false,
               false,
               false,
               false
              ]
             },
             {
              "title": "Elections or referendums celebrated during the decade: 1980"
             }
            ],
            "label": "1980",
            "method": "update"
           },
           {
            "args": [
             {
              "visible": [
               false,
               false,
               false,
               false,
               false,
               false,
               false,
               false,
               false,
               false,
               false,
               false,
               false,
               true,
               false,
               false,
               false,
               false
              ]
             },
             {
              "title": "Elections or referendums celebrated during the decade: 1990"
             }
            ],
            "label": "1990",
            "method": "update"
           },
           {
            "args": [
             {
              "visible": [
               false,
               false,
               false,
               false,
               false,
               false,
               false,
               false,
               false,
               false,
               false,
               false,
               false,
               false,
               true,
               false,
               false,
               false
              ]
             },
             {
              "title": "Elections or referendums celebrated during the decade: 2000"
             }
            ],
            "label": "2000",
            "method": "update"
           },
           {
            "args": [
             {
              "visible": [
               false,
               false,
               false,
               false,
               false,
               false,
               false,
               false,
               false,
               false,
               false,
               false,
               false,
               false,
               false,
               true,
               false,
               false
              ]
             },
             {
              "title": "Elections or referendums celebrated during the decade: 2010"
             }
            ],
            "label": "2010",
            "method": "update"
           },
           {
            "args": [
             {
              "visible": [
               false,
               false,
               false,
               false,
               false,
               false,
               false,
               false,
               false,
               false,
               false,
               false,
               false,
               false,
               false,
               false,
               true,
               false
              ]
             },
             {
              "title": "Elections or referendums celebrated during the decade: 2020"
             }
            ],
            "label": "2020",
            "method": "update"
           },
           {
            "args": [
             {
              "visible": [
               false,
               false,
               false,
               false,
               false,
               false,
               false,
               false,
               false,
               false,
               false,
               false,
               false,
               false,
               false,
               false,
               false,
               true
              ]
             },
             {
              "title": "All elections or referendums celebrated in total since 1830"
             }
            ],
            "label": "Total",
            "method": "update"
           }
          ]
         }
        ]
       }
      },
      "text/html": [
       "<div>                            <div id=\"a9e364d1-314d-4ce4-9466-b1ffff5207bf\" class=\"plotly-graph-div\" style=\"height:525px; width:100%;\"></div>            <script type=\"text/javascript\">                require([\"plotly\"], function(Plotly) {                    window.PLOTLYENV=window.PLOTLYENV || {};                                    if (document.getElementById(\"a9e364d1-314d-4ce4-9466-b1ffff5207bf\")) {                    Plotly.newPlot(                        \"a9e364d1-314d-4ce4-9466-b1ffff5207bf\",                        [{\"hoverinfo\": \"label+percent\", \"labels\": [\"Monday\", \"Wednesday\", \"Friday\"], \"marker\": {\"colors\": [\"#eebcbc\", \"#c8ecb5\", \"#e8b6ee\"], \"line\": {\"color\": \"#000000\", \"width\": 2}}, \"name\": \"1830\", \"textfont\": {\"size\": 20}, \"textinfo\": \"value\", \"type\": \"pie\", \"values\": [1, 3, 2]}, {\"hoverinfo\": \"label+percent\", \"labels\": [\"Monday\", \"Friday\", \"Saturday\", \"Sunday\"], \"marker\": {\"colors\": [\"#eebcbc\", \"#e8b6ee\", \"#b25a86\", \"#546e85\"], \"line\": {\"color\": \"#000000\", \"width\": 2}}, \"name\": \"1840\", \"textfont\": {\"size\": 20}, \"textinfo\": \"value\", \"type\": \"pie\", \"values\": [1, 2, 2, 1]}, {\"hoverinfo\": \"label+percent\", \"labels\": [\"Monday\", \"Wednesday\", \"Saturday\", \"Sunday\"], \"marker\": {\"colors\": [\"#eebcbc\", \"#c8ecb5\", \"#b25a86\", \"#546e85\"], \"line\": {\"color\": \"#000000\", \"width\": 2}}, \"name\": \"1850\", \"textfont\": {\"size\": 20}, \"textinfo\": \"value\", \"type\": \"pie\", \"values\": [1, 1, 2, 2]}, {\"hoverinfo\": \"label+percent\", \"labels\": [\"Tuesday\", \"Thursday\", \"Friday\"], \"marker\": {\"colors\": [\"#eedeab\", \"#bcc2f2\", \"#e8b6ee\"], \"line\": {\"color\": \"#000000\", \"width\": 2}}, \"name\": \"1860\", \"textfont\": {\"size\": 20}, \"textinfo\": \"value\", \"type\": \"pie\", \"values\": [2, 2, 1]}, {\"hoverinfo\": \"label+percent\", \"labels\": [\"Monday\", \"Thursday\", \"Saturday\", \"Sunday\"], \"marker\": {\"colors\": [\"#eebcbc\", \"#bcc2f2\", \"#b25a86\", \"#546e85\"], \"line\": {\"color\": \"#000000\", \"width\": 2}}, \"name\": \"1870\", \"textfont\": {\"size\": 20}, \"textinfo\": \"value\", \"type\": \"pie\", \"values\": [1, 2, 1, 2]}, {\"hoverinfo\": \"label+percent\", \"labels\": [\"Saturday\", \"Sunday\"], \"marker\": {\"colors\": [\"#b25a86\", \"#546e85\"], \"line\": {\"color\": \"#000000\", \"width\": 2}}, \"name\": \"1880\", \"textfont\": {\"size\": 20}, \"textinfo\": \"value\", \"type\": \"pie\", \"values\": [1, 2]}, {\"hoverinfo\": \"label+percent\", \"labels\": [\"Wednesday\", \"Friday\", \"Sunday\"], \"marker\": {\"colors\": [\"#c8ecb5\", \"#e8b6ee\", \"#546e85\"], \"line\": {\"color\": \"#000000\", \"width\": 2}}, \"name\": \"1890\", \"textfont\": {\"size\": 20}, \"textinfo\": \"value\", \"type\": \"pie\", \"values\": [1, 2, 2]}, {\"hoverinfo\": \"label+percent\", \"labels\": [\"Monday\", \"Thursday\", \"Sunday\"], \"marker\": {\"colors\": [\"#eebcbc\", \"#bcc2f2\", \"#546e85\"], \"line\": {\"color\": \"#000000\", \"width\": 2}}, \"name\": \"1900\", \"textfont\": {\"size\": 20}, \"textinfo\": \"value\", \"type\": \"pie\", \"values\": [1, 1, 2]}, {\"hoverinfo\": \"label+percent\", \"labels\": [\"Monday\", \"Friday\", \"Sunday\"], \"marker\": {\"colors\": [\"#eebcbc\", \"#e8b6ee\", \"#546e85\"], \"line\": {\"color\": \"#000000\", \"width\": 2}}, \"name\": \"1910\", \"textfont\": {\"size\": 20}, \"textinfo\": \"value\", \"type\": \"pie\", \"values\": [3, 1, 1]}, {\"hoverinfo\": \"label+percent\", \"labels\": [\"Tuesday\", \"Sunday\"], \"marker\": {\"colors\": [\"#eedeab\", \"#546e85\"], \"line\": {\"color\": \"#000000\", \"width\": 2}}, \"name\": \"1920\", \"textfont\": {\"size\": 20}, \"textinfo\": \"value\", \"type\": \"pie\", \"values\": [2, 1]}, {\"hoverinfo\": \"label+percent\", \"labels\": [\"Friday\", \"Sunday\"], \"marker\": {\"colors\": [\"#e8b6ee\", \"#546e85\"], \"line\": {\"color\": \"#000000\", \"width\": 2}}, \"name\": \"1930\", \"textfont\": {\"size\": 20}, \"textinfo\": \"value\", \"type\": \"pie\", \"values\": [1, 7]}, {\"hoverinfo\": \"label+percent\", \"labels\": [\"Monday\", \"Wednesday\", \"Thursday\", \"Sunday\"], \"marker\": {\"colors\": [\"#eebcbc\", \"#c8ecb5\", \"#bcc2f2\", \"#546e85\"], \"line\": {\"color\": \"#000000\", \"width\": 2}}, \"name\": \"1970\", \"textfont\": {\"size\": 20}, \"textinfo\": \"value\", \"type\": \"pie\", \"values\": [1, 3, 1, 1]}, {\"hoverinfo\": \"label+percent\", \"labels\": [\"Tuesday\", \"Wednesday\", \"Thursday\", \"Friday\", \"Saturday\", \"Sunday\"], \"marker\": {\"colors\": [\"#eedeab\", \"#c8ecb5\", \"#bcc2f2\", \"#e8b6ee\", \"#b25a86\", \"#546e85\"], \"line\": {\"color\": \"#000000\", \"width\": 2}}, \"name\": \"1980\", \"textfont\": {\"size\": 20}, \"textinfo\": \"value\", \"type\": \"pie\", \"values\": [2, 2, 4, 1, 1, 9]}, {\"hoverinfo\": \"label+percent\", \"labels\": [\"Tuesday\", \"Saturday\", \"Sunday\"], \"marker\": {\"colors\": [\"#eedeab\", \"#b25a86\", \"#546e85\"], \"line\": {\"color\": \"#000000\", \"width\": 2}}, \"name\": \"1990\", \"textfont\": {\"size\": 20}, \"textinfo\": \"value\", \"type\": \"pie\", \"values\": [1, 1, 13]}, {\"hoverinfo\": \"label+percent\", \"labels\": [\"Monday\", \"Wednesday\", \"Saturday\", \"Sunday\"], \"marker\": {\"colors\": [\"#eebcbc\", \"#c8ecb5\", \"#b25a86\", \"#546e85\"], \"line\": {\"color\": \"#000000\", \"width\": 2}}, \"name\": \"2000\", \"textfont\": {\"size\": 20}, \"textinfo\": \"value\", \"type\": \"pie\", \"values\": [1, 2, 1, 14]}, {\"hoverinfo\": \"label+percent\", \"labels\": [\"Monday\", \"Thursday\", \"Friday\", \"Sunday\"], \"marker\": {\"colors\": [\"#eebcbc\", \"#bcc2f2\", \"#e8b6ee\", \"#546e85\"], \"line\": {\"color\": \"#000000\", \"width\": 2}}, \"name\": \"2010\", \"textfont\": {\"size\": 20}, \"textinfo\": \"value\", \"type\": \"pie\", \"values\": [1, 1, 1, 15]}, {\"hoverinfo\": \"label+percent\", \"labels\": [\"Monday\", \"Sunday\"], \"marker\": {\"colors\": [\"#eebcbc\", \"#546e85\"], \"line\": {\"color\": \"#000000\", \"width\": 2}}, \"name\": \"2020\", \"textfont\": {\"size\": 20}, \"textinfo\": \"value\", \"type\": \"pie\", \"values\": [1, 1]}, {\"hoverinfo\": \"label+percent\", \"labels\": [\"Monday\", \"Tuesday\", \"Wednesday\", \"Thursday\", \"Friday\", \"Saturday\", \"Sunday\"], \"marker\": {\"colors\": [\"#eebcbc\", \"#eedeab\", \"#c8ecb5\", \"#bcc2f2\", \"#e8b6ee\", \"#b25a86\", \"#546e85\"], \"line\": {\"color\": \"#000000\", \"width\": 2}}, \"name\": \"Total\", \"textfont\": {\"size\": 20}, \"textinfo\": \"value\", \"type\": \"pie\", \"values\": [12, 7, 12, 11, 11, 9, 73]}],                        {\"annotations\": [{\"align\": \"center\", \"arrowhead\": 0, \"showarrow\": false, \"text\": \"Checkout the GitHub <a href=\\\"https://carlosvega.github.io/Weekday_ESP_Elections/\\\">repository</a> for more.<br>Multiple elections happening on the same date are considered as one.\", \"visible\": true, \"x\": 0.5, \"xref\": \"paper\", \"xshift\": 0, \"y\": 0, \"yref\": \"paper\", \"yshift\": -40}], \"showlegend\": true, \"template\": {\"data\": {\"bar\": [{\"error_x\": {\"color\": \"#2a3f5f\"}, \"error_y\": {\"color\": \"#2a3f5f\"}, \"marker\": {\"line\": {\"color\": \"#E5ECF6\", \"width\": 0.5}}, \"type\": \"bar\"}], \"barpolar\": [{\"marker\": {\"line\": {\"color\": \"#E5ECF6\", \"width\": 0.5}}, \"type\": \"barpolar\"}], \"carpet\": [{\"aaxis\": {\"endlinecolor\": \"#2a3f5f\", \"gridcolor\": \"white\", \"linecolor\": \"white\", \"minorgridcolor\": \"white\", \"startlinecolor\": \"#2a3f5f\"}, \"baxis\": {\"endlinecolor\": \"#2a3f5f\", \"gridcolor\": \"white\", \"linecolor\": \"white\", \"minorgridcolor\": \"white\", \"startlinecolor\": \"#2a3f5f\"}, \"type\": \"carpet\"}], \"choropleth\": [{\"colorbar\": {\"outlinewidth\": 0, \"ticks\": \"\"}, \"type\": \"choropleth\"}], \"contour\": [{\"colorbar\": {\"outlinewidth\": 0, \"ticks\": \"\"}, \"colorscale\": [[0.0, \"#0d0887\"], [0.1111111111111111, \"#46039f\"], [0.2222222222222222, \"#7201a8\"], [0.3333333333333333, \"#9c179e\"], [0.4444444444444444, \"#bd3786\"], [0.5555555555555556, \"#d8576b\"], [0.6666666666666666, \"#ed7953\"], [0.7777777777777778, \"#fb9f3a\"], [0.8888888888888888, \"#fdca26\"], [1.0, \"#f0f921\"]], \"type\": \"contour\"}], \"contourcarpet\": [{\"colorbar\": {\"outlinewidth\": 0, \"ticks\": \"\"}, \"type\": \"contourcarpet\"}], \"heatmap\": [{\"colorbar\": {\"outlinewidth\": 0, \"ticks\": \"\"}, \"colorscale\": [[0.0, \"#0d0887\"], [0.1111111111111111, \"#46039f\"], [0.2222222222222222, \"#7201a8\"], [0.3333333333333333, \"#9c179e\"], [0.4444444444444444, \"#bd3786\"], [0.5555555555555556, \"#d8576b\"], [0.6666666666666666, \"#ed7953\"], [0.7777777777777778, \"#fb9f3a\"], [0.8888888888888888, \"#fdca26\"], [1.0, \"#f0f921\"]], \"type\": \"heatmap\"}], \"heatmapgl\": [{\"colorbar\": {\"outlinewidth\": 0, \"ticks\": \"\"}, \"colorscale\": [[0.0, \"#0d0887\"], [0.1111111111111111, \"#46039f\"], [0.2222222222222222, \"#7201a8\"], [0.3333333333333333, \"#9c179e\"], [0.4444444444444444, \"#bd3786\"], [0.5555555555555556, \"#d8576b\"], [0.6666666666666666, \"#ed7953\"], [0.7777777777777778, \"#fb9f3a\"], [0.8888888888888888, \"#fdca26\"], [1.0, \"#f0f921\"]], \"type\": \"heatmapgl\"}], \"histogram\": [{\"marker\": {\"colorbar\": {\"outlinewidth\": 0, \"ticks\": \"\"}}, \"type\": \"histogram\"}], \"histogram2d\": [{\"colorbar\": {\"outlinewidth\": 0, \"ticks\": \"\"}, \"colorscale\": [[0.0, \"#0d0887\"], [0.1111111111111111, \"#46039f\"], [0.2222222222222222, \"#7201a8\"], [0.3333333333333333, \"#9c179e\"], [0.4444444444444444, \"#bd3786\"], [0.5555555555555556, \"#d8576b\"], [0.6666666666666666, \"#ed7953\"], [0.7777777777777778, \"#fb9f3a\"], [0.8888888888888888, \"#fdca26\"], [1.0, \"#f0f921\"]], \"type\": \"histogram2d\"}], \"histogram2dcontour\": [{\"colorbar\": {\"outlinewidth\": 0, \"ticks\": \"\"}, \"colorscale\": [[0.0, \"#0d0887\"], [0.1111111111111111, \"#46039f\"], [0.2222222222222222, \"#7201a8\"], [0.3333333333333333, \"#9c179e\"], [0.4444444444444444, \"#bd3786\"], [0.5555555555555556, \"#d8576b\"], [0.6666666666666666, \"#ed7953\"], [0.7777777777777778, \"#fb9f3a\"], [0.8888888888888888, \"#fdca26\"], [1.0, \"#f0f921\"]], \"type\": \"histogram2dcontour\"}], \"mesh3d\": [{\"colorbar\": {\"outlinewidth\": 0, \"ticks\": \"\"}, \"type\": \"mesh3d\"}], \"parcoords\": [{\"line\": {\"colorbar\": {\"outlinewidth\": 0, \"ticks\": \"\"}}, \"type\": \"parcoords\"}], \"pie\": [{\"automargin\": true, \"type\": \"pie\"}], \"scatter\": [{\"marker\": {\"colorbar\": {\"outlinewidth\": 0, \"ticks\": \"\"}}, \"type\": \"scatter\"}], \"scatter3d\": [{\"line\": {\"colorbar\": {\"outlinewidth\": 0, \"ticks\": \"\"}}, \"marker\": {\"colorbar\": {\"outlinewidth\": 0, \"ticks\": \"\"}}, \"type\": \"scatter3d\"}], \"scattercarpet\": [{\"marker\": {\"colorbar\": {\"outlinewidth\": 0, \"ticks\": \"\"}}, \"type\": \"scattercarpet\"}], \"scattergeo\": [{\"marker\": {\"colorbar\": {\"outlinewidth\": 0, \"ticks\": \"\"}}, \"type\": \"scattergeo\"}], \"scattergl\": [{\"marker\": {\"colorbar\": {\"outlinewidth\": 0, \"ticks\": \"\"}}, \"type\": \"scattergl\"}], \"scattermapbox\": [{\"marker\": {\"colorbar\": {\"outlinewidth\": 0, \"ticks\": \"\"}}, \"type\": \"scattermapbox\"}], \"scatterpolar\": [{\"marker\": {\"colorbar\": {\"outlinewidth\": 0, \"ticks\": \"\"}}, \"type\": \"scatterpolar\"}], \"scatterpolargl\": [{\"marker\": {\"colorbar\": {\"outlinewidth\": 0, \"ticks\": \"\"}}, \"type\": \"scatterpolargl\"}], \"scatterternary\": [{\"marker\": {\"colorbar\": {\"outlinewidth\": 0, \"ticks\": \"\"}}, \"type\": \"scatterternary\"}], \"surface\": [{\"colorbar\": {\"outlinewidth\": 0, \"ticks\": \"\"}, \"colorscale\": [[0.0, \"#0d0887\"], [0.1111111111111111, \"#46039f\"], [0.2222222222222222, \"#7201a8\"], [0.3333333333333333, \"#9c179e\"], [0.4444444444444444, \"#bd3786\"], [0.5555555555555556, \"#d8576b\"], [0.6666666666666666, \"#ed7953\"], [0.7777777777777778, \"#fb9f3a\"], [0.8888888888888888, \"#fdca26\"], [1.0, \"#f0f921\"]], \"type\": \"surface\"}], \"table\": [{\"cells\": {\"fill\": {\"color\": \"#EBF0F8\"}, \"line\": {\"color\": \"white\"}}, \"header\": {\"fill\": {\"color\": \"#C8D4E3\"}, \"line\": {\"color\": \"white\"}}, \"type\": \"table\"}]}, \"layout\": {\"annotationdefaults\": {\"arrowcolor\": \"#2a3f5f\", \"arrowhead\": 0, \"arrowwidth\": 1}, \"autotypenumbers\": \"strict\", \"coloraxis\": {\"colorbar\": {\"outlinewidth\": 0, \"ticks\": \"\"}}, \"colorscale\": {\"diverging\": [[0, \"#8e0152\"], [0.1, \"#c51b7d\"], [0.2, \"#de77ae\"], [0.3, \"#f1b6da\"], [0.4, \"#fde0ef\"], [0.5, \"#f7f7f7\"], [0.6, \"#e6f5d0\"], [0.7, \"#b8e186\"], [0.8, \"#7fbc41\"], [0.9, \"#4d9221\"], [1, \"#276419\"]], \"sequential\": [[0.0, \"#0d0887\"], [0.1111111111111111, \"#46039f\"], [0.2222222222222222, \"#7201a8\"], [0.3333333333333333, \"#9c179e\"], [0.4444444444444444, \"#bd3786\"], [0.5555555555555556, \"#d8576b\"], [0.6666666666666666, \"#ed7953\"], [0.7777777777777778, \"#fb9f3a\"], [0.8888888888888888, \"#fdca26\"], [1.0, \"#f0f921\"]], \"sequentialminus\": [[0.0, \"#0d0887\"], [0.1111111111111111, \"#46039f\"], [0.2222222222222222, \"#7201a8\"], [0.3333333333333333, \"#9c179e\"], [0.4444444444444444, \"#bd3786\"], [0.5555555555555556, \"#d8576b\"], [0.6666666666666666, \"#ed7953\"], [0.7777777777777778, \"#fb9f3a\"], [0.8888888888888888, \"#fdca26\"], [1.0, \"#f0f921\"]]}, \"colorway\": [\"#636efa\", \"#EF553B\", \"#00cc96\", \"#ab63fa\", \"#FFA15A\", \"#19d3f3\", \"#FF6692\", \"#B6E880\", \"#FF97FF\", \"#FECB52\"], \"font\": {\"color\": \"#2a3f5f\"}, \"geo\": {\"bgcolor\": \"white\", \"lakecolor\": \"white\", \"landcolor\": \"#E5ECF6\", \"showlakes\": true, \"showland\": true, \"subunitcolor\": \"white\"}, \"hoverlabel\": {\"align\": \"left\"}, \"hovermode\": \"closest\", \"mapbox\": {\"style\": \"light\"}, \"paper_bgcolor\": \"white\", \"plot_bgcolor\": \"#E5ECF6\", \"polar\": {\"angularaxis\": {\"gridcolor\": \"white\", \"linecolor\": \"white\", \"ticks\": \"\"}, \"bgcolor\": \"#E5ECF6\", \"radialaxis\": {\"gridcolor\": \"white\", \"linecolor\": \"white\", \"ticks\": \"\"}}, \"scene\": {\"xaxis\": {\"backgroundcolor\": \"#E5ECF6\", \"gridcolor\": \"white\", \"gridwidth\": 2, \"linecolor\": \"white\", \"showbackground\": true, \"ticks\": \"\", \"zerolinecolor\": \"white\"}, \"yaxis\": {\"backgroundcolor\": \"#E5ECF6\", \"gridcolor\": \"white\", \"gridwidth\": 2, \"linecolor\": \"white\", \"showbackground\": true, \"ticks\": \"\", \"zerolinecolor\": \"white\"}, \"zaxis\": {\"backgroundcolor\": \"#E5ECF6\", \"gridcolor\": \"white\", \"gridwidth\": 2, \"linecolor\": \"white\", \"showbackground\": true, \"ticks\": \"\", \"zerolinecolor\": \"white\"}}, \"shapedefaults\": {\"line\": {\"color\": \"#2a3f5f\"}}, \"ternary\": {\"aaxis\": {\"gridcolor\": \"white\", \"linecolor\": \"white\", \"ticks\": \"\"}, \"baxis\": {\"gridcolor\": \"white\", \"linecolor\": \"white\", \"ticks\": \"\"}, \"bgcolor\": \"#E5ECF6\", \"caxis\": {\"gridcolor\": \"white\", \"linecolor\": \"white\", \"ticks\": \"\"}}, \"title\": {\"x\": 0.05}, \"xaxis\": {\"automargin\": true, \"gridcolor\": \"white\", \"linecolor\": \"white\", \"ticks\": \"\", \"title\": {\"standoff\": 15}, \"zerolinecolor\": \"white\", \"zerolinewidth\": 2}, \"yaxis\": {\"automargin\": true, \"gridcolor\": \"white\", \"linecolor\": \"white\", \"ticks\": \"\", \"title\": {\"standoff\": 15}, \"zerolinecolor\": \"white\", \"zerolinewidth\": 2}}}, \"title\": {\"text\": \"All elections or referendums celebrated in total since 1830\"}, \"updatemenus\": [{\"active\": 17, \"buttons\": [{\"args\": [{\"visible\": [true, false, false, false, false, false, false, false, false, false, false, false, false, false, false, false, false, false]}, {\"title\": \"Elections or referendums celebrated during the decade: 1830\"}], \"label\": \"1830\", \"method\": \"update\"}, {\"args\": [{\"visible\": [false, true, false, false, false, false, false, false, false, false, false, false, false, false, false, false, false, false]}, {\"title\": \"Elections or referendums celebrated during the decade: 1840\"}], \"label\": \"1840\", \"method\": \"update\"}, {\"args\": [{\"visible\": [false, false, true, false, false, false, false, false, false, false, false, false, false, false, false, false, false, false]}, {\"title\": \"Elections or referendums celebrated during the decade: 1850\"}], \"label\": \"1850\", \"method\": \"update\"}, {\"args\": [{\"visible\": [false, false, false, true, false, false, false, false, false, false, false, false, false, false, false, false, false, false]}, {\"title\": \"Elections or referendums celebrated during the decade: 1860\"}], \"label\": \"1860\", \"method\": \"update\"}, {\"args\": [{\"visible\": [false, false, false, false, true, false, false, false, false, false, false, false, false, false, false, false, false, false]}, {\"title\": \"Elections or referendums celebrated during the decade: 1870\"}], \"label\": \"1870\", \"method\": \"update\"}, {\"args\": [{\"visible\": [false, false, false, false, false, true, false, false, false, false, false, false, false, false, false, false, false, false]}, {\"title\": \"Elections or referendums celebrated during the decade: 1880\"}], \"label\": \"1880\", \"method\": \"update\"}, {\"args\": [{\"visible\": [false, false, false, false, false, false, true, false, false, false, false, false, false, false, false, false, false, false]}, {\"title\": \"Elections or referendums celebrated during the decade: 1890\"}], \"label\": \"1890\", \"method\": \"update\"}, {\"args\": [{\"visible\": [false, false, false, false, false, false, false, true, false, false, false, false, false, false, false, false, false, false]}, {\"title\": \"Elections or referendums celebrated during the decade: 1900\"}], \"label\": \"1900\", \"method\": \"update\"}, {\"args\": [{\"visible\": [false, false, false, false, false, false, false, false, true, false, false, false, false, false, false, false, false, false]}, {\"title\": \"Elections or referendums celebrated during the decade: 1910\"}], \"label\": \"1910\", \"method\": \"update\"}, {\"args\": [{\"visible\": [false, false, false, false, false, false, false, false, false, true, false, false, false, false, false, false, false, false]}, {\"title\": \"Elections or referendums celebrated during the decade: 1920\"}], \"label\": \"1920\", \"method\": \"update\"}, {\"args\": [{\"visible\": [false, false, false, false, false, false, false, false, false, false, true, false, false, false, false, false, false, false]}, {\"title\": \"Elections or referendums celebrated during the decade: 1930\"}], \"label\": \"1930\", \"method\": \"update\"}, {\"args\": [{\"visible\": [false, false, false, false, false, false, false, false, false, false, false, true, false, false, false, false, false, false]}, {\"title\": \"Elections or referendums celebrated during the decade: 1970\"}], \"label\": \"1970\", \"method\": \"update\"}, {\"args\": [{\"visible\": [false, false, false, false, false, false, false, false, false, false, false, false, true, false, false, false, false, false]}, {\"title\": \"Elections or referendums celebrated during the decade: 1980\"}], \"label\": \"1980\", \"method\": \"update\"}, {\"args\": [{\"visible\": [false, false, false, false, false, false, false, false, false, false, false, false, false, true, false, false, false, false]}, {\"title\": \"Elections or referendums celebrated during the decade: 1990\"}], \"label\": \"1990\", \"method\": \"update\"}, {\"args\": [{\"visible\": [false, false, false, false, false, false, false, false, false, false, false, false, false, false, true, false, false, false]}, {\"title\": \"Elections or referendums celebrated during the decade: 2000\"}], \"label\": \"2000\", \"method\": \"update\"}, {\"args\": [{\"visible\": [false, false, false, false, false, false, false, false, false, false, false, false, false, false, false, true, false, false]}, {\"title\": \"Elections or referendums celebrated during the decade: 2010\"}], \"label\": \"2010\", \"method\": \"update\"}, {\"args\": [{\"visible\": [false, false, false, false, false, false, false, false, false, false, false, false, false, false, false, false, true, false]}, {\"title\": \"Elections or referendums celebrated during the decade: 2020\"}], \"label\": \"2020\", \"method\": \"update\"}, {\"args\": [{\"visible\": [false, false, false, false, false, false, false, false, false, false, false, false, false, false, false, false, false, true]}, {\"title\": \"All elections or referendums celebrated in total since 1830\"}], \"label\": \"Total\", \"method\": \"update\"}]}]},                        {\"responsive\": true}                    ).then(function(){\n",
       "                            \n",
       "var gd = document.getElementById('a9e364d1-314d-4ce4-9466-b1ffff5207bf');\n",
       "var x = new MutationObserver(function (mutations, observer) {{\n",
       "        var display = window.getComputedStyle(gd).display;\n",
       "        if (!display || display === 'none') {{\n",
       "            console.log([gd, 'removed!']);\n",
       "            Plotly.purge(gd);\n",
       "            observer.disconnect();\n",
       "        }}\n",
       "}});\n",
       "\n",
       "// Listen for the removal of the full notebook cells\n",
       "var notebookContainer = gd.closest('#notebook-container');\n",
       "if (notebookContainer) {{\n",
       "    x.observe(notebookContainer, {childList: true});\n",
       "}}\n",
       "\n",
       "// Listen for the clearing of the current output cell\n",
       "var outputEl = gd.closest('.output');\n",
       "if (outputEl) {{\n",
       "    x.observe(outputEl, {childList: true});\n",
       "}}\n",
       "\n",
       "                        })                };                });            </script>        </div>"
      ]
     },
     "metadata": {},
     "output_type": "display_data"
    },
    {
     "data": {
      "text/plain": [
       "'docs/styled_pie_chart.html'"
      ]
     },
     "execution_count": 47,
     "metadata": {},
     "output_type": "execute_result"
    }
   ],
   "source": [
    "updatemenus = list([\n",
    "    dict(active=len(traces)-1,\n",
    "         buttons=button_list,\n",
    "    )\n",
    "])\n",
    "\n",
    "layout = dict(title='All elections or referendums celebrated in total since 1830', \n",
    "              showlegend=True, updatemenus=updatemenus,\n",
    "             annotations=[\n",
    "        dict(\n",
    "            x=0.5,\n",
    "            y=0,\n",
    "            xshift=0,\n",
    "            yshift=-40,\n",
    "            visible= True,\n",
    "            align='center',\n",
    "            xref='paper',\n",
    "            yref='paper',\n",
    "            text='Checkout the GitHub <a href=\"https://carlosvega.github.io/Weekday_ESP_Elections/\">repository</a> for more.<br>Multiple elections happening on the same date are considered as one.',\n",
    "            showarrow=False,\n",
    "            arrowhead=0\n",
    "        )\n",
    "    ])\n",
    "\n",
    "fig = dict(data=traces, layout=layout)\n",
    "\n",
    "iplot(fig, filename='styled_pie_chart')\n",
    "plot(fig, filename='docs/styled_pie_chart.html', auto_open=False)"
   ]
  },
  {
   "cell_type": "code",
   "execution_count": 51,
   "metadata": {
    "scrolled": true
   },
   "outputs": [
    {
     "data": {
      "application/vnd.plotly.v1+json": {
       "config": {
        "plotlyServerURL": "https://plot.ly"
       },
       "data": [
        {
         "cells": {
          "values": [
           [
            "1834-06-30",
            "1836-02-10",
            "1836-02-26",
            "1836-07-13",
            "1837-09-22",
            "1839-07-24",
            "1840-01-19",
            "1841-01-02",
            "1843-02-27",
            "1843-09-15",
            "1844-03-09",
            "1846-06-12",
            "1850-08-31",
            "1851-10-05",
            "1853-04-02",
            "1854-04-10",
            "1857-03-25",
            "1858-10-31",
            "1863-11-10",
            "1864-11-22",
            "1865-01-12",
            "1867-10-03",
            "1869-01-15",
            "1871-08-03",
            "1872-03-04",
            "1872-08-24",
            "1873-10-05",
            "1876-01-20",
            "1879-04-20",
            "1881-08-20",
            "1884-04-27",
            "1886-04-04",
            "1891-01-02",
            "1893-05-03",
            "1896-12-04",
            "1898-03-27",
            "1899-04-16",
            "1901-05-19",
            "1903-04-30",
            "1905-10-09",
            "1907-04-21",
            "1910-08-05",
            "1914-08-03",
            "1916-09-04",
            "1918-02-24",
            "1919-01-06",
            "1920-12-19",
            "1922-05-02",
            "1923-04-24",
            "1931-06-28",
            "1931-12-04",
            "1932-11-20",
            "1933-04-23",
            "1933-11-19",
            "1934-01-14",
            "1936-02-16",
            "1936-04-26",
            "1976-12-15",
            "1977-06-15",
            "1978-06-12",
            "1979-01-03",
            "1979-03-04",
            "1979-10-25",
            "1980-02-28",
            "1980-03-20",
            "1980-09-03",
            "1980-12-20",
            "1981-10-20",
            "1982-05-23",
            "1982-10-28",
            "1983-08-05",
            "1984-02-26",
            "1984-04-29",
            "1985-11-24",
            "1986-06-22",
            "1986-11-30",
            "1986-12-03",
            "1987-10-06",
            "1988-05-29",
            "1989-06-15",
            "1989-10-29",
            "1989-12-17",
            "1990-06-23",
            "1990-10-28",
            "1991-05-26",
            "1992-03-15",
            "1993-06-06",
            "1993-10-17",
            "1994-10-23",
            "1994-12-06",
            "1995-05-28",
            "1995-11-19",
            "1996-03-03",
            "1997-10-19",
            "1998-10-25",
            "1999-06-13",
            "1999-10-17",
            "2000-12-03",
            "2001-05-13",
            "2001-10-21",
            "2003-05-25",
            "2003-10-26",
            "2003-11-16",
            "2004-03-14",
            "2004-06-13",
            "2005-02-20",
            "2005-04-17",
            "2005-06-19",
            "2006-01-11",
            "2006-06-18",
            "2007-02-18",
            "2007-05-27",
            "2008-09-03",
            "2009-01-03",
            "2009-07-06",
            "2010-11-28",
            "2011-05-22",
            "2011-11-20",
            "2012-03-25",
            "2012-10-21",
            "2012-11-25",
            "2014-05-25",
            "2015-03-22",
            "2015-05-24",
            "2015-09-27",
            "2015-12-20",
            "2016-06-26",
            "2016-09-25",
            "2017-12-21",
            "2018-02-12",
            "2019-04-28",
            "2019-05-26",
            "2019-10-11",
            "2020-12-07",
            "2021-02-14"
           ],
           [
            "Monday",
            "Wednesday",
            "Friday",
            "Wednesday",
            "Friday",
            "Wednesday",
            "Sunday",
            "Saturday",
            "Monday",
            "Friday",
            "Saturday",
            "Friday",
            "Saturday",
            "Sunday",
            "Saturday",
            "Monday",
            "Wednesday",
            "Sunday",
            "Tuesday",
            "Tuesday",
            "Thursday",
            "Thursday",
            "Friday",
            "Thursday",
            "Monday",
            "Saturday",
            "Sunday",
            "Thursday",
            "Sunday",
            "Saturday",
            "Sunday",
            "Sunday",
            "Friday",
            "Wednesday",
            "Friday",
            "Sunday",
            "Sunday",
            "Sunday",
            "Thursday",
            "Monday",
            "Sunday",
            "Friday",
            "Monday",
            "Monday",
            "Sunday",
            "Monday",
            "Sunday",
            "Tuesday",
            "Tuesday",
            "Sunday",
            "Friday",
            "Sunday",
            "Sunday",
            "Sunday",
            "Sunday",
            "Sunday",
            "Sunday",
            "Wednesday",
            "Wednesday",
            "Monday",
            "Wednesday",
            "Sunday",
            "Thursday",
            "Thursday",
            "Thursday",
            "Wednesday",
            "Saturday",
            "Tuesday",
            "Sunday",
            "Thursday",
            "Friday",
            "Sunday",
            "Sunday",
            "Sunday",
            "Sunday",
            "Sunday",
            "Wednesday",
            "Tuesday",
            "Sunday",
            "Thursday",
            "Sunday",
            "Sunday",
            "Saturday",
            "Sunday",
            "Sunday",
            "Sunday",
            "Sunday",
            "Sunday",
            "Sunday",
            "Tuesday",
            "Sunday",
            "Sunday",
            "Sunday",
            "Sunday",
            "Sunday",
            "Sunday",
            "Sunday",
            "Sunday",
            "Sunday",
            "Sunday",
            "Sunday",
            "Sunday",
            "Sunday",
            "Sunday",
            "Sunday",
            "Sunday",
            "Sunday",
            "Sunday",
            "Wednesday",
            "Sunday",
            "Sunday",
            "Sunday",
            "Wednesday",
            "Saturday",
            "Monday",
            "Sunday",
            "Sunday",
            "Sunday",
            "Sunday",
            "Sunday",
            "Sunday",
            "Sunday",
            "Sunday",
            "Sunday",
            "Sunday",
            "Sunday",
            "Sunday",
            "Sunday",
            "Thursday",
            "Monday",
            "Sunday",
            "Sunday",
            "Friday",
            "Monday",
            "Sunday"
           ]
          ]
         },
         "header": {
          "values": [
           "Date",
           "Weekday"
          ]
         },
         "type": "table"
        }
       ],
       "layout": {
        "template": {
         "data": {
          "bar": [
           {
            "error_x": {
             "color": "#2a3f5f"
            },
            "error_y": {
             "color": "#2a3f5f"
            },
            "marker": {
             "line": {
              "color": "#E5ECF6",
              "width": 0.5
             }
            },
            "type": "bar"
           }
          ],
          "barpolar": [
           {
            "marker": {
             "line": {
              "color": "#E5ECF6",
              "width": 0.5
             }
            },
            "type": "barpolar"
           }
          ],
          "carpet": [
           {
            "aaxis": {
             "endlinecolor": "#2a3f5f",
             "gridcolor": "white",
             "linecolor": "white",
             "minorgridcolor": "white",
             "startlinecolor": "#2a3f5f"
            },
            "baxis": {
             "endlinecolor": "#2a3f5f",
             "gridcolor": "white",
             "linecolor": "white",
             "minorgridcolor": "white",
             "startlinecolor": "#2a3f5f"
            },
            "type": "carpet"
           }
          ],
          "choropleth": [
           {
            "colorbar": {
             "outlinewidth": 0,
             "ticks": ""
            },
            "type": "choropleth"
           }
          ],
          "contour": [
           {
            "colorbar": {
             "outlinewidth": 0,
             "ticks": ""
            },
            "colorscale": [
             [
              0,
              "#0d0887"
             ],
             [
              0.1111111111111111,
              "#46039f"
             ],
             [
              0.2222222222222222,
              "#7201a8"
             ],
             [
              0.3333333333333333,
              "#9c179e"
             ],
             [
              0.4444444444444444,
              "#bd3786"
             ],
             [
              0.5555555555555556,
              "#d8576b"
             ],
             [
              0.6666666666666666,
              "#ed7953"
             ],
             [
              0.7777777777777778,
              "#fb9f3a"
             ],
             [
              0.8888888888888888,
              "#fdca26"
             ],
             [
              1,
              "#f0f921"
             ]
            ],
            "type": "contour"
           }
          ],
          "contourcarpet": [
           {
            "colorbar": {
             "outlinewidth": 0,
             "ticks": ""
            },
            "type": "contourcarpet"
           }
          ],
          "heatmap": [
           {
            "colorbar": {
             "outlinewidth": 0,
             "ticks": ""
            },
            "colorscale": [
             [
              0,
              "#0d0887"
             ],
             [
              0.1111111111111111,
              "#46039f"
             ],
             [
              0.2222222222222222,
              "#7201a8"
             ],
             [
              0.3333333333333333,
              "#9c179e"
             ],
             [
              0.4444444444444444,
              "#bd3786"
             ],
             [
              0.5555555555555556,
              "#d8576b"
             ],
             [
              0.6666666666666666,
              "#ed7953"
             ],
             [
              0.7777777777777778,
              "#fb9f3a"
             ],
             [
              0.8888888888888888,
              "#fdca26"
             ],
             [
              1,
              "#f0f921"
             ]
            ],
            "type": "heatmap"
           }
          ],
          "heatmapgl": [
           {
            "colorbar": {
             "outlinewidth": 0,
             "ticks": ""
            },
            "colorscale": [
             [
              0,
              "#0d0887"
             ],
             [
              0.1111111111111111,
              "#46039f"
             ],
             [
              0.2222222222222222,
              "#7201a8"
             ],
             [
              0.3333333333333333,
              "#9c179e"
             ],
             [
              0.4444444444444444,
              "#bd3786"
             ],
             [
              0.5555555555555556,
              "#d8576b"
             ],
             [
              0.6666666666666666,
              "#ed7953"
             ],
             [
              0.7777777777777778,
              "#fb9f3a"
             ],
             [
              0.8888888888888888,
              "#fdca26"
             ],
             [
              1,
              "#f0f921"
             ]
            ],
            "type": "heatmapgl"
           }
          ],
          "histogram": [
           {
            "marker": {
             "colorbar": {
              "outlinewidth": 0,
              "ticks": ""
             }
            },
            "type": "histogram"
           }
          ],
          "histogram2d": [
           {
            "colorbar": {
             "outlinewidth": 0,
             "ticks": ""
            },
            "colorscale": [
             [
              0,
              "#0d0887"
             ],
             [
              0.1111111111111111,
              "#46039f"
             ],
             [
              0.2222222222222222,
              "#7201a8"
             ],
             [
              0.3333333333333333,
              "#9c179e"
             ],
             [
              0.4444444444444444,
              "#bd3786"
             ],
             [
              0.5555555555555556,
              "#d8576b"
             ],
             [
              0.6666666666666666,
              "#ed7953"
             ],
             [
              0.7777777777777778,
              "#fb9f3a"
             ],
             [
              0.8888888888888888,
              "#fdca26"
             ],
             [
              1,
              "#f0f921"
             ]
            ],
            "type": "histogram2d"
           }
          ],
          "histogram2dcontour": [
           {
            "colorbar": {
             "outlinewidth": 0,
             "ticks": ""
            },
            "colorscale": [
             [
              0,
              "#0d0887"
             ],
             [
              0.1111111111111111,
              "#46039f"
             ],
             [
              0.2222222222222222,
              "#7201a8"
             ],
             [
              0.3333333333333333,
              "#9c179e"
             ],
             [
              0.4444444444444444,
              "#bd3786"
             ],
             [
              0.5555555555555556,
              "#d8576b"
             ],
             [
              0.6666666666666666,
              "#ed7953"
             ],
             [
              0.7777777777777778,
              "#fb9f3a"
             ],
             [
              0.8888888888888888,
              "#fdca26"
             ],
             [
              1,
              "#f0f921"
             ]
            ],
            "type": "histogram2dcontour"
           }
          ],
          "mesh3d": [
           {
            "colorbar": {
             "outlinewidth": 0,
             "ticks": ""
            },
            "type": "mesh3d"
           }
          ],
          "parcoords": [
           {
            "line": {
             "colorbar": {
              "outlinewidth": 0,
              "ticks": ""
             }
            },
            "type": "parcoords"
           }
          ],
          "pie": [
           {
            "automargin": true,
            "type": "pie"
           }
          ],
          "scatter": [
           {
            "marker": {
             "colorbar": {
              "outlinewidth": 0,
              "ticks": ""
             }
            },
            "type": "scatter"
           }
          ],
          "scatter3d": [
           {
            "line": {
             "colorbar": {
              "outlinewidth": 0,
              "ticks": ""
             }
            },
            "marker": {
             "colorbar": {
              "outlinewidth": 0,
              "ticks": ""
             }
            },
            "type": "scatter3d"
           }
          ],
          "scattercarpet": [
           {
            "marker": {
             "colorbar": {
              "outlinewidth": 0,
              "ticks": ""
             }
            },
            "type": "scattercarpet"
           }
          ],
          "scattergeo": [
           {
            "marker": {
             "colorbar": {
              "outlinewidth": 0,
              "ticks": ""
             }
            },
            "type": "scattergeo"
           }
          ],
          "scattergl": [
           {
            "marker": {
             "colorbar": {
              "outlinewidth": 0,
              "ticks": ""
             }
            },
            "type": "scattergl"
           }
          ],
          "scattermapbox": [
           {
            "marker": {
             "colorbar": {
              "outlinewidth": 0,
              "ticks": ""
             }
            },
            "type": "scattermapbox"
           }
          ],
          "scatterpolar": [
           {
            "marker": {
             "colorbar": {
              "outlinewidth": 0,
              "ticks": ""
             }
            },
            "type": "scatterpolar"
           }
          ],
          "scatterpolargl": [
           {
            "marker": {
             "colorbar": {
              "outlinewidth": 0,
              "ticks": ""
             }
            },
            "type": "scatterpolargl"
           }
          ],
          "scatterternary": [
           {
            "marker": {
             "colorbar": {
              "outlinewidth": 0,
              "ticks": ""
             }
            },
            "type": "scatterternary"
           }
          ],
          "surface": [
           {
            "colorbar": {
             "outlinewidth": 0,
             "ticks": ""
            },
            "colorscale": [
             [
              0,
              "#0d0887"
             ],
             [
              0.1111111111111111,
              "#46039f"
             ],
             [
              0.2222222222222222,
              "#7201a8"
             ],
             [
              0.3333333333333333,
              "#9c179e"
             ],
             [
              0.4444444444444444,
              "#bd3786"
             ],
             [
              0.5555555555555556,
              "#d8576b"
             ],
             [
              0.6666666666666666,
              "#ed7953"
             ],
             [
              0.7777777777777778,
              "#fb9f3a"
             ],
             [
              0.8888888888888888,
              "#fdca26"
             ],
             [
              1,
              "#f0f921"
             ]
            ],
            "type": "surface"
           }
          ],
          "table": [
           {
            "cells": {
             "fill": {
              "color": "#EBF0F8"
             },
             "line": {
              "color": "white"
             }
            },
            "header": {
             "fill": {
              "color": "#C8D4E3"
             },
             "line": {
              "color": "white"
             }
            },
            "type": "table"
           }
          ]
         },
         "layout": {
          "annotationdefaults": {
           "arrowcolor": "#2a3f5f",
           "arrowhead": 0,
           "arrowwidth": 1
          },
          "autotypenumbers": "strict",
          "coloraxis": {
           "colorbar": {
            "outlinewidth": 0,
            "ticks": ""
           }
          },
          "colorscale": {
           "diverging": [
            [
             0,
             "#8e0152"
            ],
            [
             0.1,
             "#c51b7d"
            ],
            [
             0.2,
             "#de77ae"
            ],
            [
             0.3,
             "#f1b6da"
            ],
            [
             0.4,
             "#fde0ef"
            ],
            [
             0.5,
             "#f7f7f7"
            ],
            [
             0.6,
             "#e6f5d0"
            ],
            [
             0.7,
             "#b8e186"
            ],
            [
             0.8,
             "#7fbc41"
            ],
            [
             0.9,
             "#4d9221"
            ],
            [
             1,
             "#276419"
            ]
           ],
           "sequential": [
            [
             0,
             "#0d0887"
            ],
            [
             0.1111111111111111,
             "#46039f"
            ],
            [
             0.2222222222222222,
             "#7201a8"
            ],
            [
             0.3333333333333333,
             "#9c179e"
            ],
            [
             0.4444444444444444,
             "#bd3786"
            ],
            [
             0.5555555555555556,
             "#d8576b"
            ],
            [
             0.6666666666666666,
             "#ed7953"
            ],
            [
             0.7777777777777778,
             "#fb9f3a"
            ],
            [
             0.8888888888888888,
             "#fdca26"
            ],
            [
             1,
             "#f0f921"
            ]
           ],
           "sequentialminus": [
            [
             0,
             "#0d0887"
            ],
            [
             0.1111111111111111,
             "#46039f"
            ],
            [
             0.2222222222222222,
             "#7201a8"
            ],
            [
             0.3333333333333333,
             "#9c179e"
            ],
            [
             0.4444444444444444,
             "#bd3786"
            ],
            [
             0.5555555555555556,
             "#d8576b"
            ],
            [
             0.6666666666666666,
             "#ed7953"
            ],
            [
             0.7777777777777778,
             "#fb9f3a"
            ],
            [
             0.8888888888888888,
             "#fdca26"
            ],
            [
             1,
             "#f0f921"
            ]
           ]
          },
          "colorway": [
           "#636efa",
           "#EF553B",
           "#00cc96",
           "#ab63fa",
           "#FFA15A",
           "#19d3f3",
           "#FF6692",
           "#B6E880",
           "#FF97FF",
           "#FECB52"
          ],
          "font": {
           "color": "#2a3f5f"
          },
          "geo": {
           "bgcolor": "white",
           "lakecolor": "white",
           "landcolor": "#E5ECF6",
           "showlakes": true,
           "showland": true,
           "subunitcolor": "white"
          },
          "hoverlabel": {
           "align": "left"
          },
          "hovermode": "closest",
          "mapbox": {
           "style": "light"
          },
          "paper_bgcolor": "white",
          "plot_bgcolor": "#E5ECF6",
          "polar": {
           "angularaxis": {
            "gridcolor": "white",
            "linecolor": "white",
            "ticks": ""
           },
           "bgcolor": "#E5ECF6",
           "radialaxis": {
            "gridcolor": "white",
            "linecolor": "white",
            "ticks": ""
           }
          },
          "scene": {
           "xaxis": {
            "backgroundcolor": "#E5ECF6",
            "gridcolor": "white",
            "gridwidth": 2,
            "linecolor": "white",
            "showbackground": true,
            "ticks": "",
            "zerolinecolor": "white"
           },
           "yaxis": {
            "backgroundcolor": "#E5ECF6",
            "gridcolor": "white",
            "gridwidth": 2,
            "linecolor": "white",
            "showbackground": true,
            "ticks": "",
            "zerolinecolor": "white"
           },
           "zaxis": {
            "backgroundcolor": "#E5ECF6",
            "gridcolor": "white",
            "gridwidth": 2,
            "linecolor": "white",
            "showbackground": true,
            "ticks": "",
            "zerolinecolor": "white"
           }
          },
          "shapedefaults": {
           "line": {
            "color": "#2a3f5f"
           }
          },
          "ternary": {
           "aaxis": {
            "gridcolor": "white",
            "linecolor": "white",
            "ticks": ""
           },
           "baxis": {
            "gridcolor": "white",
            "linecolor": "white",
            "ticks": ""
           },
           "bgcolor": "#E5ECF6",
           "caxis": {
            "gridcolor": "white",
            "linecolor": "white",
            "ticks": ""
           }
          },
          "title": {
           "x": 0.05
          },
          "xaxis": {
           "automargin": true,
           "gridcolor": "white",
           "linecolor": "white",
           "ticks": "",
           "title": {
            "standoff": 15
           },
           "zerolinecolor": "white",
           "zerolinewidth": 2
          },
          "yaxis": {
           "automargin": true,
           "gridcolor": "white",
           "linecolor": "white",
           "ticks": "",
           "title": {
            "standoff": 15
           },
           "zerolinecolor": "white",
           "zerolinewidth": 2
          }
         }
        }
       }
      },
      "text/html": [
       "<div>                            <div id=\"73f429be-461e-480e-a5fb-fb35f1c46103\" class=\"plotly-graph-div\" style=\"height:525px; width:100%;\"></div>            <script type=\"text/javascript\">                require([\"plotly\"], function(Plotly) {                    window.PLOTLYENV=window.PLOTLYENV || {};                                    if (document.getElementById(\"73f429be-461e-480e-a5fb-fb35f1c46103\")) {                    Plotly.newPlot(                        \"73f429be-461e-480e-a5fb-fb35f1c46103\",                        [{\"cells\": {\"values\": [[\"1834-06-30\", \"1836-02-10\", \"1836-02-26\", \"1836-07-13\", \"1837-09-22\", \"1839-07-24\", \"1840-01-19\", \"1841-01-02\", \"1843-02-27\", \"1843-09-15\", \"1844-03-09\", \"1846-06-12\", \"1850-08-31\", \"1851-10-05\", \"1853-04-02\", \"1854-04-10\", \"1857-03-25\", \"1858-10-31\", \"1863-11-10\", \"1864-11-22\", \"1865-01-12\", \"1867-10-03\", \"1869-01-15\", \"1871-08-03\", \"1872-03-04\", \"1872-08-24\", \"1873-10-05\", \"1876-01-20\", \"1879-04-20\", \"1881-08-20\", \"1884-04-27\", \"1886-04-04\", \"1891-01-02\", \"1893-05-03\", \"1896-12-04\", \"1898-03-27\", \"1899-04-16\", \"1901-05-19\", \"1903-04-30\", \"1905-10-09\", \"1907-04-21\", \"1910-08-05\", \"1914-08-03\", \"1916-09-04\", \"1918-02-24\", \"1919-01-06\", \"1920-12-19\", \"1922-05-02\", \"1923-04-24\", \"1931-06-28\", \"1931-12-04\", \"1932-11-20\", \"1933-04-23\", \"1933-11-19\", \"1934-01-14\", \"1936-02-16\", \"1936-04-26\", \"1976-12-15\", \"1977-06-15\", \"1978-06-12\", \"1979-01-03\", \"1979-03-04\", \"1979-10-25\", \"1980-02-28\", \"1980-03-20\", \"1980-09-03\", \"1980-12-20\", \"1981-10-20\", \"1982-05-23\", \"1982-10-28\", \"1983-08-05\", \"1984-02-26\", \"1984-04-29\", \"1985-11-24\", \"1986-06-22\", \"1986-11-30\", \"1986-12-03\", \"1987-10-06\", \"1988-05-29\", \"1989-06-15\", \"1989-10-29\", \"1989-12-17\", \"1990-06-23\", \"1990-10-28\", \"1991-05-26\", \"1992-03-15\", \"1993-06-06\", \"1993-10-17\", \"1994-10-23\", \"1994-12-06\", \"1995-05-28\", \"1995-11-19\", \"1996-03-03\", \"1997-10-19\", \"1998-10-25\", \"1999-06-13\", \"1999-10-17\", \"2000-12-03\", \"2001-05-13\", \"2001-10-21\", \"2003-05-25\", \"2003-10-26\", \"2003-11-16\", \"2004-03-14\", \"2004-06-13\", \"2005-02-20\", \"2005-04-17\", \"2005-06-19\", \"2006-01-11\", \"2006-06-18\", \"2007-02-18\", \"2007-05-27\", \"2008-09-03\", \"2009-01-03\", \"2009-07-06\", \"2010-11-28\", \"2011-05-22\", \"2011-11-20\", \"2012-03-25\", \"2012-10-21\", \"2012-11-25\", \"2014-05-25\", \"2015-03-22\", \"2015-05-24\", \"2015-09-27\", \"2015-12-20\", \"2016-06-26\", \"2016-09-25\", \"2017-12-21\", \"2018-02-12\", \"2019-04-28\", \"2019-05-26\", \"2019-10-11\", \"2020-12-07\", \"2021-02-14\"], [\"Monday\", \"Wednesday\", \"Friday\", \"Wednesday\", \"Friday\", \"Wednesday\", \"Sunday\", \"Saturday\", \"Monday\", \"Friday\", \"Saturday\", \"Friday\", \"Saturday\", \"Sunday\", \"Saturday\", \"Monday\", \"Wednesday\", \"Sunday\", \"Tuesday\", \"Tuesday\", \"Thursday\", \"Thursday\", \"Friday\", \"Thursday\", \"Monday\", \"Saturday\", \"Sunday\", \"Thursday\", \"Sunday\", \"Saturday\", \"Sunday\", \"Sunday\", \"Friday\", \"Wednesday\", \"Friday\", \"Sunday\", \"Sunday\", \"Sunday\", \"Thursday\", \"Monday\", \"Sunday\", \"Friday\", \"Monday\", \"Monday\", \"Sunday\", \"Monday\", \"Sunday\", \"Tuesday\", \"Tuesday\", \"Sunday\", \"Friday\", \"Sunday\", \"Sunday\", \"Sunday\", \"Sunday\", \"Sunday\", \"Sunday\", \"Wednesday\", \"Wednesday\", \"Monday\", \"Wednesday\", \"Sunday\", \"Thursday\", \"Thursday\", \"Thursday\", \"Wednesday\", \"Saturday\", \"Tuesday\", \"Sunday\", \"Thursday\", \"Friday\", \"Sunday\", \"Sunday\", \"Sunday\", \"Sunday\", \"Sunday\", \"Wednesday\", \"Tuesday\", \"Sunday\", \"Thursday\", \"Sunday\", \"Sunday\", \"Saturday\", \"Sunday\", \"Sunday\", \"Sunday\", \"Sunday\", \"Sunday\", \"Sunday\", \"Tuesday\", \"Sunday\", \"Sunday\", \"Sunday\", \"Sunday\", \"Sunday\", \"Sunday\", \"Sunday\", \"Sunday\", \"Sunday\", \"Sunday\", \"Sunday\", \"Sunday\", \"Sunday\", \"Sunday\", \"Sunday\", \"Sunday\", \"Sunday\", \"Sunday\", \"Wednesday\", \"Sunday\", \"Sunday\", \"Sunday\", \"Wednesday\", \"Saturday\", \"Monday\", \"Sunday\", \"Sunday\", \"Sunday\", \"Sunday\", \"Sunday\", \"Sunday\", \"Sunday\", \"Sunday\", \"Sunday\", \"Sunday\", \"Sunday\", \"Sunday\", \"Sunday\", \"Thursday\", \"Monday\", \"Sunday\", \"Sunday\", \"Friday\", \"Monday\", \"Sunday\"]]}, \"header\": {\"values\": [\"Date\", \"Weekday\"]}, \"type\": \"table\"}],                        {\"template\": {\"data\": {\"bar\": [{\"error_x\": {\"color\": \"#2a3f5f\"}, \"error_y\": {\"color\": \"#2a3f5f\"}, \"marker\": {\"line\": {\"color\": \"#E5ECF6\", \"width\": 0.5}}, \"type\": \"bar\"}], \"barpolar\": [{\"marker\": {\"line\": {\"color\": \"#E5ECF6\", \"width\": 0.5}}, \"type\": \"barpolar\"}], \"carpet\": [{\"aaxis\": {\"endlinecolor\": \"#2a3f5f\", \"gridcolor\": \"white\", \"linecolor\": \"white\", \"minorgridcolor\": \"white\", \"startlinecolor\": \"#2a3f5f\"}, \"baxis\": {\"endlinecolor\": \"#2a3f5f\", \"gridcolor\": \"white\", \"linecolor\": \"white\", \"minorgridcolor\": \"white\", \"startlinecolor\": \"#2a3f5f\"}, \"type\": \"carpet\"}], \"choropleth\": [{\"colorbar\": {\"outlinewidth\": 0, \"ticks\": \"\"}, \"type\": \"choropleth\"}], \"contour\": [{\"colorbar\": {\"outlinewidth\": 0, \"ticks\": \"\"}, \"colorscale\": [[0.0, \"#0d0887\"], [0.1111111111111111, \"#46039f\"], [0.2222222222222222, \"#7201a8\"], [0.3333333333333333, \"#9c179e\"], [0.4444444444444444, \"#bd3786\"], [0.5555555555555556, \"#d8576b\"], [0.6666666666666666, \"#ed7953\"], [0.7777777777777778, \"#fb9f3a\"], [0.8888888888888888, \"#fdca26\"], [1.0, \"#f0f921\"]], \"type\": \"contour\"}], \"contourcarpet\": [{\"colorbar\": {\"outlinewidth\": 0, \"ticks\": \"\"}, \"type\": \"contourcarpet\"}], \"heatmap\": [{\"colorbar\": {\"outlinewidth\": 0, \"ticks\": \"\"}, \"colorscale\": [[0.0, \"#0d0887\"], [0.1111111111111111, \"#46039f\"], [0.2222222222222222, \"#7201a8\"], [0.3333333333333333, \"#9c179e\"], [0.4444444444444444, \"#bd3786\"], [0.5555555555555556, \"#d8576b\"], [0.6666666666666666, \"#ed7953\"], [0.7777777777777778, \"#fb9f3a\"], [0.8888888888888888, \"#fdca26\"], [1.0, \"#f0f921\"]], \"type\": \"heatmap\"}], \"heatmapgl\": [{\"colorbar\": {\"outlinewidth\": 0, \"ticks\": \"\"}, \"colorscale\": [[0.0, \"#0d0887\"], [0.1111111111111111, \"#46039f\"], [0.2222222222222222, \"#7201a8\"], [0.3333333333333333, \"#9c179e\"], [0.4444444444444444, \"#bd3786\"], [0.5555555555555556, \"#d8576b\"], [0.6666666666666666, \"#ed7953\"], [0.7777777777777778, \"#fb9f3a\"], [0.8888888888888888, \"#fdca26\"], [1.0, \"#f0f921\"]], \"type\": \"heatmapgl\"}], \"histogram\": [{\"marker\": {\"colorbar\": {\"outlinewidth\": 0, \"ticks\": \"\"}}, \"type\": \"histogram\"}], \"histogram2d\": [{\"colorbar\": {\"outlinewidth\": 0, \"ticks\": \"\"}, \"colorscale\": [[0.0, \"#0d0887\"], [0.1111111111111111, \"#46039f\"], [0.2222222222222222, \"#7201a8\"], [0.3333333333333333, \"#9c179e\"], [0.4444444444444444, \"#bd3786\"], [0.5555555555555556, \"#d8576b\"], [0.6666666666666666, \"#ed7953\"], [0.7777777777777778, \"#fb9f3a\"], [0.8888888888888888, \"#fdca26\"], [1.0, \"#f0f921\"]], \"type\": \"histogram2d\"}], \"histogram2dcontour\": [{\"colorbar\": {\"outlinewidth\": 0, \"ticks\": \"\"}, \"colorscale\": [[0.0, \"#0d0887\"], [0.1111111111111111, \"#46039f\"], [0.2222222222222222, \"#7201a8\"], [0.3333333333333333, \"#9c179e\"], [0.4444444444444444, \"#bd3786\"], [0.5555555555555556, \"#d8576b\"], [0.6666666666666666, \"#ed7953\"], [0.7777777777777778, \"#fb9f3a\"], [0.8888888888888888, \"#fdca26\"], [1.0, \"#f0f921\"]], \"type\": \"histogram2dcontour\"}], \"mesh3d\": [{\"colorbar\": {\"outlinewidth\": 0, \"ticks\": \"\"}, \"type\": \"mesh3d\"}], \"parcoords\": [{\"line\": {\"colorbar\": {\"outlinewidth\": 0, \"ticks\": \"\"}}, \"type\": \"parcoords\"}], \"pie\": [{\"automargin\": true, \"type\": \"pie\"}], \"scatter\": [{\"marker\": {\"colorbar\": {\"outlinewidth\": 0, \"ticks\": \"\"}}, \"type\": \"scatter\"}], \"scatter3d\": [{\"line\": {\"colorbar\": {\"outlinewidth\": 0, \"ticks\": \"\"}}, \"marker\": {\"colorbar\": {\"outlinewidth\": 0, \"ticks\": \"\"}}, \"type\": \"scatter3d\"}], \"scattercarpet\": [{\"marker\": {\"colorbar\": {\"outlinewidth\": 0, \"ticks\": \"\"}}, \"type\": \"scattercarpet\"}], \"scattergeo\": [{\"marker\": {\"colorbar\": {\"outlinewidth\": 0, \"ticks\": \"\"}}, \"type\": \"scattergeo\"}], \"scattergl\": [{\"marker\": {\"colorbar\": {\"outlinewidth\": 0, \"ticks\": \"\"}}, \"type\": \"scattergl\"}], \"scattermapbox\": [{\"marker\": {\"colorbar\": {\"outlinewidth\": 0, \"ticks\": \"\"}}, \"type\": \"scattermapbox\"}], \"scatterpolar\": [{\"marker\": {\"colorbar\": {\"outlinewidth\": 0, \"ticks\": \"\"}}, \"type\": \"scatterpolar\"}], \"scatterpolargl\": [{\"marker\": {\"colorbar\": {\"outlinewidth\": 0, \"ticks\": \"\"}}, \"type\": \"scatterpolargl\"}], \"scatterternary\": [{\"marker\": {\"colorbar\": {\"outlinewidth\": 0, \"ticks\": \"\"}}, \"type\": \"scatterternary\"}], \"surface\": [{\"colorbar\": {\"outlinewidth\": 0, \"ticks\": \"\"}, \"colorscale\": [[0.0, \"#0d0887\"], [0.1111111111111111, \"#46039f\"], [0.2222222222222222, \"#7201a8\"], [0.3333333333333333, \"#9c179e\"], [0.4444444444444444, \"#bd3786\"], [0.5555555555555556, \"#d8576b\"], [0.6666666666666666, \"#ed7953\"], [0.7777777777777778, \"#fb9f3a\"], [0.8888888888888888, \"#fdca26\"], [1.0, \"#f0f921\"]], \"type\": \"surface\"}], \"table\": [{\"cells\": {\"fill\": {\"color\": \"#EBF0F8\"}, \"line\": {\"color\": \"white\"}}, \"header\": {\"fill\": {\"color\": \"#C8D4E3\"}, \"line\": {\"color\": \"white\"}}, \"type\": \"table\"}]}, \"layout\": {\"annotationdefaults\": {\"arrowcolor\": \"#2a3f5f\", \"arrowhead\": 0, \"arrowwidth\": 1}, \"autotypenumbers\": \"strict\", \"coloraxis\": {\"colorbar\": {\"outlinewidth\": 0, \"ticks\": \"\"}}, \"colorscale\": {\"diverging\": [[0, \"#8e0152\"], [0.1, \"#c51b7d\"], [0.2, \"#de77ae\"], [0.3, \"#f1b6da\"], [0.4, \"#fde0ef\"], [0.5, \"#f7f7f7\"], [0.6, \"#e6f5d0\"], [0.7, \"#b8e186\"], [0.8, \"#7fbc41\"], [0.9, \"#4d9221\"], [1, \"#276419\"]], \"sequential\": [[0.0, \"#0d0887\"], [0.1111111111111111, \"#46039f\"], [0.2222222222222222, \"#7201a8\"], [0.3333333333333333, \"#9c179e\"], [0.4444444444444444, \"#bd3786\"], [0.5555555555555556, \"#d8576b\"], [0.6666666666666666, \"#ed7953\"], [0.7777777777777778, \"#fb9f3a\"], [0.8888888888888888, \"#fdca26\"], [1.0, \"#f0f921\"]], \"sequentialminus\": [[0.0, \"#0d0887\"], [0.1111111111111111, \"#46039f\"], [0.2222222222222222, \"#7201a8\"], [0.3333333333333333, \"#9c179e\"], [0.4444444444444444, \"#bd3786\"], [0.5555555555555556, \"#d8576b\"], [0.6666666666666666, \"#ed7953\"], [0.7777777777777778, \"#fb9f3a\"], [0.8888888888888888, \"#fdca26\"], [1.0, \"#f0f921\"]]}, \"colorway\": [\"#636efa\", \"#EF553B\", \"#00cc96\", \"#ab63fa\", \"#FFA15A\", \"#19d3f3\", \"#FF6692\", \"#B6E880\", \"#FF97FF\", \"#FECB52\"], \"font\": {\"color\": \"#2a3f5f\"}, \"geo\": {\"bgcolor\": \"white\", \"lakecolor\": \"white\", \"landcolor\": \"#E5ECF6\", \"showlakes\": true, \"showland\": true, \"subunitcolor\": \"white\"}, \"hoverlabel\": {\"align\": \"left\"}, \"hovermode\": \"closest\", \"mapbox\": {\"style\": \"light\"}, \"paper_bgcolor\": \"white\", \"plot_bgcolor\": \"#E5ECF6\", \"polar\": {\"angularaxis\": {\"gridcolor\": \"white\", \"linecolor\": \"white\", \"ticks\": \"\"}, \"bgcolor\": \"#E5ECF6\", \"radialaxis\": {\"gridcolor\": \"white\", \"linecolor\": \"white\", \"ticks\": \"\"}}, \"scene\": {\"xaxis\": {\"backgroundcolor\": \"#E5ECF6\", \"gridcolor\": \"white\", \"gridwidth\": 2, \"linecolor\": \"white\", \"showbackground\": true, \"ticks\": \"\", \"zerolinecolor\": \"white\"}, \"yaxis\": {\"backgroundcolor\": \"#E5ECF6\", \"gridcolor\": \"white\", \"gridwidth\": 2, \"linecolor\": \"white\", \"showbackground\": true, \"ticks\": \"\", \"zerolinecolor\": \"white\"}, \"zaxis\": {\"backgroundcolor\": \"#E5ECF6\", \"gridcolor\": \"white\", \"gridwidth\": 2, \"linecolor\": \"white\", \"showbackground\": true, \"ticks\": \"\", \"zerolinecolor\": \"white\"}}, \"shapedefaults\": {\"line\": {\"color\": \"#2a3f5f\"}}, \"ternary\": {\"aaxis\": {\"gridcolor\": \"white\", \"linecolor\": \"white\", \"ticks\": \"\"}, \"baxis\": {\"gridcolor\": \"white\", \"linecolor\": \"white\", \"ticks\": \"\"}, \"bgcolor\": \"#E5ECF6\", \"caxis\": {\"gridcolor\": \"white\", \"linecolor\": \"white\", \"ticks\": \"\"}}, \"title\": {\"x\": 0.05}, \"xaxis\": {\"automargin\": true, \"gridcolor\": \"white\", \"linecolor\": \"white\", \"ticks\": \"\", \"title\": {\"standoff\": 15}, \"zerolinecolor\": \"white\", \"zerolinewidth\": 2}, \"yaxis\": {\"automargin\": true, \"gridcolor\": \"white\", \"linecolor\": \"white\", \"ticks\": \"\", \"title\": {\"standoff\": 15}, \"zerolinecolor\": \"white\", \"zerolinewidth\": 2}}}},                        {\"responsive\": true}                    ).then(function(){\n",
       "                            \n",
       "var gd = document.getElementById('73f429be-461e-480e-a5fb-fb35f1c46103');\n",
       "var x = new MutationObserver(function (mutations, observer) {{\n",
       "        var display = window.getComputedStyle(gd).display;\n",
       "        if (!display || display === 'none') {{\n",
       "            console.log([gd, 'removed!']);\n",
       "            Plotly.purge(gd);\n",
       "            observer.disconnect();\n",
       "        }}\n",
       "}});\n",
       "\n",
       "// Listen for the removal of the full notebook cells\n",
       "var notebookContainer = gd.closest('#notebook-container');\n",
       "if (notebookContainer) {{\n",
       "    x.observe(notebookContainer, {childList: true});\n",
       "}}\n",
       "\n",
       "// Listen for the clearing of the current output cell\n",
       "var outputEl = gd.closest('.output');\n",
       "if (outputEl) {{\n",
       "    x.observe(outputEl, {childList: true});\n",
       "}}\n",
       "\n",
       "                        })                };                });            </script>        </div>"
      ]
     },
     "metadata": {},
     "output_type": "display_data"
    },
    {
     "data": {
      "text/plain": [
       "'docs/styled_table.html'"
      ]
     },
     "execution_count": 51,
     "metadata": {},
     "output_type": "execute_result"
    }
   ],
   "source": [
    "dates_fmt = [t.strftime('%Y-%m-%d') for t in dates]\n",
    "weekdays = [t.day_name() for t in dates]\n",
    "fig = go.Figure(data=[go.Table(header=dict(values=['Date', 'Weekday']),\n",
    "                 cells=dict(values=[dates_fmt, weekdays]))\n",
    "                     ])\n",
    "fig.show()\n",
    "plot(fig, filename='docs/styled_table.html', auto_open=False)\n",
    "\n"
   ]
  },
  {
   "cell_type": "code",
   "execution_count": 55,
   "metadata": {
    "scrolled": false
   },
   "outputs": [],
   "source": [
    "pd.DataFrame(data={'Date': dates_fmt, 'Weekday': weekdays}).to_csv('docs/processed_dates.csv')"
   ]
  },
  {
   "cell_type": "code",
   "execution_count": null,
   "metadata": {},
   "outputs": [],
   "source": []
  },
  {
   "cell_type": "code",
   "execution_count": null,
   "metadata": {},
   "outputs": [],
   "source": []
  },
  {
   "cell_type": "code",
   "execution_count": null,
   "metadata": {},
   "outputs": [],
   "source": [
    "1830 [1, 3, 2] ['Monday', 'Wednesday', 'Friday']\n",
    "1840 [1, 2, 2, 1] ['Monday', 'Friday', 'Saturday', 'Sunday']\n",
    "1850 [1, 1, 2, 2] ['Monday', 'Wednesday', 'Saturday', 'Sunday']\n",
    "1860 [2, 2, 1] ['Tuesday', 'Thursday', 'Friday']\n",
    "1870 [1, 2, 1, 2] ['Monday', 'Thursday', 'Saturday', 'Sunday']\n",
    "1880 [1, 2] ['Saturday', 'Sunday']\n",
    "1890 [1, 2, 2] ['Wednesday', 'Friday', 'Sunday']\n",
    "1900 [1, 1, 2] ['Monday', 'Thursday', 'Sunday']\n",
    "1910 [3, 1, 1] ['Monday', 'Friday', 'Sunday']\n",
    "1920 [2, 1] ['Tuesday', 'Sunday']\n",
    "1930 [1, 7] ['Friday', 'Sunday']\n",
    "1970 [1, 3, 2, 3] ['Monday', 'Wednesday', 'Thursday', 'Sunday']\n",
    "1980 [6, 2, 4, 3, 1, 10] ['Tuesday', 'Wednesday', 'Thursday', 'Friday', 'Saturday', 'Sunday']\n",
    "1990 [2, 1, 21] ['Tuesday', 'Saturday', 'Sunday']\n",
    "2000 [1, 3, 1, 20] ['Monday', 'Wednesday', 'Saturday', 'Sunday']\n",
    "2010 [17] ['Sunday']"
   ]
  }
 ],
 "metadata": {
  "kernelspec": {
   "display_name": "Python 3",
   "language": "python",
   "name": "python3"
  },
  "language_info": {
   "codemirror_mode": {
    "name": "ipython",
    "version": 3
   },
   "file_extension": ".py",
   "mimetype": "text/x-python",
   "name": "python",
   "nbconvert_exporter": "python",
   "pygments_lexer": "ipython3",
   "version": "3.8.7"
  }
 },
 "nbformat": 4,
 "nbformat_minor": 2
}
