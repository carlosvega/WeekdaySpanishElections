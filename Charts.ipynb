{
 "cells": [
  {
   "cell_type": "code",
   "execution_count": 1,
   "metadata": {},
   "outputs": [
    {
     "data": {
      "text/html": [
       "<script>requirejs.config({paths: { 'plotly': ['https://cdn.plot.ly/plotly-latest.min']},});if(!window.Plotly) {{require(['plotly'],function(plotly) {window.Plotly=plotly;});}}</script>"
      ],
      "text/vnd.plotly.v1+html": [
       "<script>requirejs.config({paths: { 'plotly': ['https://cdn.plot.ly/plotly-latest.min']},});if(!window.Plotly) {{require(['plotly'],function(plotly) {window.Plotly=plotly;});}}</script>"
      ]
     },
     "metadata": {},
     "output_type": "display_data"
    }
   ],
   "source": [
    "#init_notebook_mode(connected=True)\n",
    "%matplotlib inline\n",
    "import matplotlib, plotly, fileinput\n",
    "import matplotlib.pyplot as plt\n",
    "import pandas as pd \n",
    "from collections import Counter\n",
    "\n",
    "from plotly.offline import plot, iplot, init_notebook_mode\n",
    "import plotly.graph_objs as go\n",
    "init_notebook_mode(connected=True)"
   ]
  },
  {
   "cell_type": "code",
   "execution_count": 2,
   "metadata": {},
   "outputs": [],
   "source": [
    "dates = []\n",
    "for line in fileinput.input('dates.txt'):\n",
    "    line = line.rstrip()\n",
    "    \n",
    "    #ignore lines starting with # or ending with ?\n",
    "    if line[0] == '#' or line[-1] == '?':\n",
    "        continue\n",
    "    \n",
    "    _, date = line.split('|') # split lines\n",
    "    date = date.replace('', '') # remove spaces\n",
    "    dates.append(pd.Timestamp(date))\n",
    "    \n",
    "dates = sorted(dates)"
   ]
  },
  {
   "cell_type": "code",
   "execution_count": 3,
   "metadata": {},
   "outputs": [
    {
     "name": "stdout",
     "output_type": "stream",
     "text": [
      "All [10, 12, 13, 11, 12, 9, 91] ['Monday', 'Tuesday', 'Wednesday', 'Thursday', 'Friday', 'Saturday', 'Sunday']\n"
     ]
    }
   ],
   "source": [
    "colors = ['#eebcbc', '#eedeab', '#c8ecb5', '#bcc2f2', '#e8b6ee', '#b25a86', '#546e85']\n",
    "\n",
    "#all data together\n",
    "d = Counter([t.weekday_name for t in dates])\n",
    "labels = ['Monday', 'Tuesday', 'Wednesday', 'Thursday', 'Friday', 'Saturday', 'Sunday']\n",
    "all_values = [d[l] for l in labels]\n",
    "\n",
    "empty_trace = go.Pie(labels=['None'], values=[100],\n",
    "               hoverinfo='label+percent', textinfo='value', \n",
    "               textfont=dict(size=20), name='None',\n",
    "               marker=dict(colors=colors, \n",
    "                           line=dict(color='#000000', width=2)))\n",
    "\n",
    "main_trace = go.Pie(labels=labels, values=all_values,\n",
    "               hoverinfo='label+percent', textinfo='value', \n",
    "               textfont=dict(size=20), name='Total',\n",
    "               marker=dict(colors=colors, \n",
    "                           line=dict(color='#000000', width=2)))\n",
    "\n",
    "print('All', all_values, labels)"
   ]
  },
  {
   "cell_type": "code",
   "execution_count": 4,
   "metadata": {},
   "outputs": [
    {
     "name": "stdout",
     "output_type": "stream",
     "text": [
      "1830 [1, 3, 2] ['Monday', 'Wednesday', 'Friday']\n",
      "1840 [1, 2, 2, 1] ['Monday', 'Friday', 'Saturday', 'Sunday']\n",
      "1850 [1, 1, 2, 2] ['Monday', 'Wednesday', 'Saturday', 'Sunday']\n",
      "1860 [2, 2, 1] ['Tuesday', 'Thursday', 'Friday']\n",
      "1870 [1, 2, 1, 2] ['Monday', 'Thursday', 'Saturday', 'Sunday']\n",
      "1880 [1, 2] ['Saturday', 'Sunday']\n",
      "1890 [1, 2, 2] ['Wednesday', 'Friday', 'Sunday']\n",
      "1900 [1, 1, 2] ['Monday', 'Thursday', 'Sunday']\n",
      "1910 [3, 1, 1] ['Monday', 'Friday', 'Sunday']\n",
      "1920 [2, 1] ['Tuesday', 'Sunday']\n",
      "1930 [1, 7] ['Friday', 'Sunday']\n",
      "1970 [1, 3, 2, 3] ['Monday', 'Wednesday', 'Thursday', 'Sunday']\n",
      "1980 [6, 2, 4, 3, 1, 10] ['Tuesday', 'Wednesday', 'Thursday', 'Friday', 'Saturday', 'Sunday']\n",
      "1990 [2, 1, 21] ['Tuesday', 'Saturday', 'Sunday']\n",
      "2000 [1, 3, 1, 20] ['Monday', 'Wednesday', 'Saturday', 'Sunday']\n",
      "2010 [17] ['Sunday']\n"
     ]
    }
   ],
   "source": [
    "#per decade\n",
    "weekday_per_decade = {}\n",
    "\n",
    "for t in dates:\n",
    "    decade = (t.year//10)*10\n",
    "    #print(decade, t.weekday_name)\n",
    "    if decade not in weekday_per_decade:\n",
    "        weekday_per_decade[decade] = []\n",
    "    weekday_per_decade[decade].append(t.weekday_name)\n",
    "\n",
    "#traces\n",
    "traces = []\n",
    "for decade in weekday_per_decade:\n",
    "    c = Counter(weekday_per_decade[decade])\n",
    "    weekday_per_decade[decade] = c\n",
    "    \n",
    "    current_values = []\n",
    "    current_labels = []\n",
    "    current_colors = []\n",
    "    for j, l in enumerate(labels):\n",
    "        if c[l] > 0:\n",
    "            current_labels.append(l)\n",
    "            current_values.append(c[l])\n",
    "            current_colors.append(colors[j])\n",
    "    \n",
    "    g = go.Pie(labels=current_labels, values=current_values,\n",
    "               hoverinfo='label+percent', textinfo='value', \n",
    "               textfont=dict(size=20), name=str(decade),\n",
    "               marker=dict(colors=current_colors, \n",
    "                           line=dict(color='#000000', width=2)))\n",
    "    traces.append(g)\n",
    "    print(decade, current_values, current_labels)\n",
    "\n",
    "traces += [main_trace]#, empty_trace]\n",
    "#traces"
   ]
  },
  {
   "cell_type": "code",
   "execution_count": 13,
   "metadata": {},
   "outputs": [],
   "source": [
    "#button list\n",
    "\n",
    "keys = list(weekday_per_decade.keys())\n",
    "keys += ['Total']#, 'None']\n",
    "\n",
    "button_list = []\n",
    "for i, decade in enumerate(keys):\n",
    "    #mask\n",
    "    bools = [False]*len(keys)\n",
    "    bools[i] = True\n",
    "    if i != len(keys)-1:\n",
    "        label = str(decade)\n",
    "        title = 'Elections or referendums celebrated during the decade: {}'.format(decade)\n",
    "    else:\n",
    "        label = 'Total'\n",
    "        title = 'All elections or referendums celebrated in total since 1830'\n",
    "    #button\n",
    "    button = {\n",
    "        'label': label,\n",
    "        'method': 'update',\n",
    "        'args': [{'visible': bools}, \n",
    "              {'title': title}]\n",
    "    }\n",
    "    #add\n",
    "    button_list.append(button)\n",
    "    \n"
   ]
  },
  {
   "cell_type": "code",
   "execution_count": 33,
   "metadata": {
    "scrolled": false
   },
   "outputs": [
    {
     "data": {
      "application/vnd.plotly.v1+json": {
       "data": [
        {
         "hoverinfo": "label+percent",
         "labels": [
          "Monday",
          "Wednesday",
          "Friday"
         ],
         "marker": {
          "colors": [
           "#eebcbc",
           "#c8ecb5",
           "#e8b6ee"
          ],
          "line": {
           "color": "#000000",
           "width": 2
          }
         },
         "name": "1830",
         "textfont": {
          "size": 20
         },
         "textinfo": "value",
         "type": "pie",
         "values": [
          1,
          3,
          2
         ]
        },
        {
         "hoverinfo": "label+percent",
         "labels": [
          "Monday",
          "Friday",
          "Saturday",
          "Sunday"
         ],
         "marker": {
          "colors": [
           "#eebcbc",
           "#e8b6ee",
           "#b25a86",
           "#546e85"
          ],
          "line": {
           "color": "#000000",
           "width": 2
          }
         },
         "name": "1840",
         "textfont": {
          "size": 20
         },
         "textinfo": "value",
         "type": "pie",
         "values": [
          1,
          2,
          2,
          1
         ]
        },
        {
         "hoverinfo": "label+percent",
         "labels": [
          "Monday",
          "Wednesday",
          "Saturday",
          "Sunday"
         ],
         "marker": {
          "colors": [
           "#eebcbc",
           "#c8ecb5",
           "#b25a86",
           "#546e85"
          ],
          "line": {
           "color": "#000000",
           "width": 2
          }
         },
         "name": "1850",
         "textfont": {
          "size": 20
         },
         "textinfo": "value",
         "type": "pie",
         "values": [
          1,
          1,
          2,
          2
         ]
        },
        {
         "hoverinfo": "label+percent",
         "labels": [
          "Tuesday",
          "Thursday",
          "Friday"
         ],
         "marker": {
          "colors": [
           "#eedeab",
           "#bcc2f2",
           "#e8b6ee"
          ],
          "line": {
           "color": "#000000",
           "width": 2
          }
         },
         "name": "1860",
         "textfont": {
          "size": 20
         },
         "textinfo": "value",
         "type": "pie",
         "values": [
          2,
          2,
          1
         ]
        },
        {
         "hoverinfo": "label+percent",
         "labels": [
          "Monday",
          "Thursday",
          "Saturday",
          "Sunday"
         ],
         "marker": {
          "colors": [
           "#eebcbc",
           "#bcc2f2",
           "#b25a86",
           "#546e85"
          ],
          "line": {
           "color": "#000000",
           "width": 2
          }
         },
         "name": "1870",
         "textfont": {
          "size": 20
         },
         "textinfo": "value",
         "type": "pie",
         "values": [
          1,
          2,
          1,
          2
         ]
        },
        {
         "hoverinfo": "label+percent",
         "labels": [
          "Saturday",
          "Sunday"
         ],
         "marker": {
          "colors": [
           "#b25a86",
           "#546e85"
          ],
          "line": {
           "color": "#000000",
           "width": 2
          }
         },
         "name": "1880",
         "textfont": {
          "size": 20
         },
         "textinfo": "value",
         "type": "pie",
         "values": [
          1,
          2
         ]
        },
        {
         "hoverinfo": "label+percent",
         "labels": [
          "Wednesday",
          "Friday",
          "Sunday"
         ],
         "marker": {
          "colors": [
           "#c8ecb5",
           "#e8b6ee",
           "#546e85"
          ],
          "line": {
           "color": "#000000",
           "width": 2
          }
         },
         "name": "1890",
         "textfont": {
          "size": 20
         },
         "textinfo": "value",
         "type": "pie",
         "values": [
          1,
          2,
          2
         ]
        },
        {
         "hoverinfo": "label+percent",
         "labels": [
          "Monday",
          "Thursday",
          "Sunday"
         ],
         "marker": {
          "colors": [
           "#eebcbc",
           "#bcc2f2",
           "#546e85"
          ],
          "line": {
           "color": "#000000",
           "width": 2
          }
         },
         "name": "1900",
         "textfont": {
          "size": 20
         },
         "textinfo": "value",
         "type": "pie",
         "values": [
          1,
          1,
          2
         ]
        },
        {
         "hoverinfo": "label+percent",
         "labels": [
          "Monday",
          "Friday",
          "Sunday"
         ],
         "marker": {
          "colors": [
           "#eebcbc",
           "#e8b6ee",
           "#546e85"
          ],
          "line": {
           "color": "#000000",
           "width": 2
          }
         },
         "name": "1910",
         "textfont": {
          "size": 20
         },
         "textinfo": "value",
         "type": "pie",
         "values": [
          3,
          1,
          1
         ]
        },
        {
         "hoverinfo": "label+percent",
         "labels": [
          "Tuesday",
          "Sunday"
         ],
         "marker": {
          "colors": [
           "#eedeab",
           "#546e85"
          ],
          "line": {
           "color": "#000000",
           "width": 2
          }
         },
         "name": "1920",
         "textfont": {
          "size": 20
         },
         "textinfo": "value",
         "type": "pie",
         "values": [
          2,
          1
         ]
        },
        {
         "hoverinfo": "label+percent",
         "labels": [
          "Friday",
          "Sunday"
         ],
         "marker": {
          "colors": [
           "#e8b6ee",
           "#546e85"
          ],
          "line": {
           "color": "#000000",
           "width": 2
          }
         },
         "name": "1930",
         "textfont": {
          "size": 20
         },
         "textinfo": "value",
         "type": "pie",
         "values": [
          1,
          7
         ]
        },
        {
         "hoverinfo": "label+percent",
         "labels": [
          "Monday",
          "Wednesday",
          "Thursday",
          "Sunday"
         ],
         "marker": {
          "colors": [
           "#eebcbc",
           "#c8ecb5",
           "#bcc2f2",
           "#546e85"
          ],
          "line": {
           "color": "#000000",
           "width": 2
          }
         },
         "name": "1970",
         "textfont": {
          "size": 20
         },
         "textinfo": "value",
         "type": "pie",
         "values": [
          1,
          3,
          2,
          3
         ]
        },
        {
         "hoverinfo": "label+percent",
         "labels": [
          "Tuesday",
          "Wednesday",
          "Thursday",
          "Friday",
          "Saturday",
          "Sunday"
         ],
         "marker": {
          "colors": [
           "#eedeab",
           "#c8ecb5",
           "#bcc2f2",
           "#e8b6ee",
           "#b25a86",
           "#546e85"
          ],
          "line": {
           "color": "#000000",
           "width": 2
          }
         },
         "name": "1980",
         "textfont": {
          "size": 20
         },
         "textinfo": "value",
         "type": "pie",
         "values": [
          6,
          2,
          4,
          3,
          1,
          10
         ]
        },
        {
         "hoverinfo": "label+percent",
         "labels": [
          "Tuesday",
          "Saturday",
          "Sunday"
         ],
         "marker": {
          "colors": [
           "#eedeab",
           "#b25a86",
           "#546e85"
          ],
          "line": {
           "color": "#000000",
           "width": 2
          }
         },
         "name": "1990",
         "textfont": {
          "size": 20
         },
         "textinfo": "value",
         "type": "pie",
         "values": [
          2,
          1,
          21
         ]
        },
        {
         "hoverinfo": "label+percent",
         "labels": [
          "Monday",
          "Wednesday",
          "Saturday",
          "Sunday"
         ],
         "marker": {
          "colors": [
           "#eebcbc",
           "#c8ecb5",
           "#b25a86",
           "#546e85"
          ],
          "line": {
           "color": "#000000",
           "width": 2
          }
         },
         "name": "2000",
         "textfont": {
          "size": 20
         },
         "textinfo": "value",
         "type": "pie",
         "values": [
          1,
          3,
          1,
          20
         ]
        },
        {
         "hoverinfo": "label+percent",
         "labels": [
          "Sunday"
         ],
         "marker": {
          "colors": [
           "#546e85"
          ],
          "line": {
           "color": "#000000",
           "width": 2
          }
         },
         "name": "2010",
         "textfont": {
          "size": 20
         },
         "textinfo": "value",
         "type": "pie",
         "values": [
          17
         ]
        },
        {
         "hoverinfo": "label+percent",
         "labels": [
          "Monday",
          "Tuesday",
          "Wednesday",
          "Thursday",
          "Friday",
          "Saturday",
          "Sunday"
         ],
         "marker": {
          "colors": [
           "#eebcbc",
           "#eedeab",
           "#c8ecb5",
           "#bcc2f2",
           "#e8b6ee",
           "#b25a86",
           "#546e85"
          ],
          "line": {
           "color": "#000000",
           "width": 2
          }
         },
         "name": "Total",
         "textfont": {
          "size": 20
         },
         "textinfo": "value",
         "type": "pie",
         "values": [
          10,
          12,
          13,
          11,
          12,
          9,
          91
         ]
        }
       ],
       "layout": {
        "annotations": [
         {
          "align": "center",
          "arrowhead": 0,
          "showarrow": false,
          "text": "Checkout the GitHub <a href=\"https://carlosvega.github.io/Weekday_ESP_Elections/\">repository</a> for more",
          "visible": true,
          "x": 0.5,
          "xref": "paper",
          "xshift": 0,
          "y": 0,
          "yref": "paper",
          "yshift": 0
         }
        ],
        "height": 620,
        "showlegend": true,
        "title": "All elections or referendums celebrated in total since 1830",
        "updatemenus": [
         {
          "active": 16,
          "buttons": [
           {
            "args": [
             {
              "visible": [
               true,
               false,
               false,
               false,
               false,
               false,
               false,
               false,
               false,
               false,
               false,
               false,
               false,
               false,
               false,
               false,
               false
              ]
             },
             {
              "title": "Elections or referendums celebrated during the decade: 1830"
             }
            ],
            "label": "1830",
            "method": "update"
           },
           {
            "args": [
             {
              "visible": [
               false,
               true,
               false,
               false,
               false,
               false,
               false,
               false,
               false,
               false,
               false,
               false,
               false,
               false,
               false,
               false,
               false
              ]
             },
             {
              "title": "Elections or referendums celebrated during the decade: 1840"
             }
            ],
            "label": "1840",
            "method": "update"
           },
           {
            "args": [
             {
              "visible": [
               false,
               false,
               true,
               false,
               false,
               false,
               false,
               false,
               false,
               false,
               false,
               false,
               false,
               false,
               false,
               false,
               false
              ]
             },
             {
              "title": "Elections or referendums celebrated during the decade: 1850"
             }
            ],
            "label": "1850",
            "method": "update"
           },
           {
            "args": [
             {
              "visible": [
               false,
               false,
               false,
               true,
               false,
               false,
               false,
               false,
               false,
               false,
               false,
               false,
               false,
               false,
               false,
               false,
               false
              ]
             },
             {
              "title": "Elections or referendums celebrated during the decade: 1860"
             }
            ],
            "label": "1860",
            "method": "update"
           },
           {
            "args": [
             {
              "visible": [
               false,
               false,
               false,
               false,
               true,
               false,
               false,
               false,
               false,
               false,
               false,
               false,
               false,
               false,
               false,
               false,
               false
              ]
             },
             {
              "title": "Elections or referendums celebrated during the decade: 1870"
             }
            ],
            "label": "1870",
            "method": "update"
           },
           {
            "args": [
             {
              "visible": [
               false,
               false,
               false,
               false,
               false,
               true,
               false,
               false,
               false,
               false,
               false,
               false,
               false,
               false,
               false,
               false,
               false
              ]
             },
             {
              "title": "Elections or referendums celebrated during the decade: 1880"
             }
            ],
            "label": "1880",
            "method": "update"
           },
           {
            "args": [
             {
              "visible": [
               false,
               false,
               false,
               false,
               false,
               false,
               true,
               false,
               false,
               false,
               false,
               false,
               false,
               false,
               false,
               false,
               false
              ]
             },
             {
              "title": "Elections or referendums celebrated during the decade: 1890"
             }
            ],
            "label": "1890",
            "method": "update"
           },
           {
            "args": [
             {
              "visible": [
               false,
               false,
               false,
               false,
               false,
               false,
               false,
               true,
               false,
               false,
               false,
               false,
               false,
               false,
               false,
               false,
               false
              ]
             },
             {
              "title": "Elections or referendums celebrated during the decade: 1900"
             }
            ],
            "label": "1900",
            "method": "update"
           },
           {
            "args": [
             {
              "visible": [
               false,
               false,
               false,
               false,
               false,
               false,
               false,
               false,
               true,
               false,
               false,
               false,
               false,
               false,
               false,
               false,
               false
              ]
             },
             {
              "title": "Elections or referendums celebrated during the decade: 1910"
             }
            ],
            "label": "1910",
            "method": "update"
           },
           {
            "args": [
             {
              "visible": [
               false,
               false,
               false,
               false,
               false,
               false,
               false,
               false,
               false,
               true,
               false,
               false,
               false,
               false,
               false,
               false,
               false
              ]
             },
             {
              "title": "Elections or referendums celebrated during the decade: 1920"
             }
            ],
            "label": "1920",
            "method": "update"
           },
           {
            "args": [
             {
              "visible": [
               false,
               false,
               false,
               false,
               false,
               false,
               false,
               false,
               false,
               false,
               true,
               false,
               false,
               false,
               false,
               false,
               false
              ]
             },
             {
              "title": "Elections or referendums celebrated during the decade: 1930"
             }
            ],
            "label": "1930",
            "method": "update"
           },
           {
            "args": [
             {
              "visible": [
               false,
               false,
               false,
               false,
               false,
               false,
               false,
               false,
               false,
               false,
               false,
               true,
               false,
               false,
               false,
               false,
               false
              ]
             },
             {
              "title": "Elections or referendums celebrated during the decade: 1970"
             }
            ],
            "label": "1970",
            "method": "update"
           },
           {
            "args": [
             {
              "visible": [
               false,
               false,
               false,
               false,
               false,
               false,
               false,
               false,
               false,
               false,
               false,
               false,
               true,
               false,
               false,
               false,
               false
              ]
             },
             {
              "title": "Elections or referendums celebrated during the decade: 1980"
             }
            ],
            "label": "1980",
            "method": "update"
           },
           {
            "args": [
             {
              "visible": [
               false,
               false,
               false,
               false,
               false,
               false,
               false,
               false,
               false,
               false,
               false,
               false,
               false,
               true,
               false,
               false,
               false
              ]
             },
             {
              "title": "Elections or referendums celebrated during the decade: 1990"
             }
            ],
            "label": "1990",
            "method": "update"
           },
           {
            "args": [
             {
              "visible": [
               false,
               false,
               false,
               false,
               false,
               false,
               false,
               false,
               false,
               false,
               false,
               false,
               false,
               false,
               true,
               false,
               false
              ]
             },
             {
              "title": "Elections or referendums celebrated during the decade: 2000"
             }
            ],
            "label": "2000",
            "method": "update"
           },
           {
            "args": [
             {
              "visible": [
               false,
               false,
               false,
               false,
               false,
               false,
               false,
               false,
               false,
               false,
               false,
               false,
               false,
               false,
               false,
               true,
               false
              ]
             },
             {
              "title": "Elections or referendums celebrated during the decade: 2010"
             }
            ],
            "label": "2010",
            "method": "update"
           },
           {
            "args": [
             {
              "visible": [
               false,
               false,
               false,
               false,
               false,
               false,
               false,
               false,
               false,
               false,
               false,
               false,
               false,
               false,
               false,
               false,
               true
              ]
             },
             {
              "title": "All elections or referendums celebrated in total since 1830"
             }
            ],
            "label": "Total",
            "method": "update"
           }
          ]
         }
        ],
        "width": 600
       }
      },
      "text/html": [
       "<div id=\"85ff54e7-91b4-4962-aa06-0247c3fd81c1\" style=\"height: 620px; width: 600px;\" class=\"plotly-graph-div\"></div><script type=\"text/javascript\">require([\"plotly\"], function(Plotly) { window.PLOTLYENV=window.PLOTLYENV || {};window.PLOTLYENV.BASE_URL=\"https://plot.ly\";Plotly.newPlot(\"85ff54e7-91b4-4962-aa06-0247c3fd81c1\", [{\"type\": \"pie\", \"labels\": [\"Monday\", \"Wednesday\", \"Friday\"], \"values\": [1, 3, 2], \"hoverinfo\": \"label+percent\", \"textinfo\": \"value\", \"textfont\": {\"size\": 20}, \"name\": \"1830\", \"marker\": {\"colors\": [\"#eebcbc\", \"#c8ecb5\", \"#e8b6ee\"], \"line\": {\"color\": \"#000000\", \"width\": 2}}}, {\"type\": \"pie\", \"labels\": [\"Monday\", \"Friday\", \"Saturday\", \"Sunday\"], \"values\": [1, 2, 2, 1], \"hoverinfo\": \"label+percent\", \"textinfo\": \"value\", \"textfont\": {\"size\": 20}, \"name\": \"1840\", \"marker\": {\"colors\": [\"#eebcbc\", \"#e8b6ee\", \"#b25a86\", \"#546e85\"], \"line\": {\"color\": \"#000000\", \"width\": 2}}}, {\"type\": \"pie\", \"labels\": [\"Monday\", \"Wednesday\", \"Saturday\", \"Sunday\"], \"values\": [1, 1, 2, 2], \"hoverinfo\": \"label+percent\", \"textinfo\": \"value\", \"textfont\": {\"size\": 20}, \"name\": \"1850\", \"marker\": {\"colors\": [\"#eebcbc\", \"#c8ecb5\", \"#b25a86\", \"#546e85\"], \"line\": {\"color\": \"#000000\", \"width\": 2}}}, {\"type\": \"pie\", \"labels\": [\"Tuesday\", \"Thursday\", \"Friday\"], \"values\": [2, 2, 1], \"hoverinfo\": \"label+percent\", \"textinfo\": \"value\", \"textfont\": {\"size\": 20}, \"name\": \"1860\", \"marker\": {\"colors\": [\"#eedeab\", \"#bcc2f2\", \"#e8b6ee\"], \"line\": {\"color\": \"#000000\", \"width\": 2}}}, {\"type\": \"pie\", \"labels\": [\"Monday\", \"Thursday\", \"Saturday\", \"Sunday\"], \"values\": [1, 2, 1, 2], \"hoverinfo\": \"label+percent\", \"textinfo\": \"value\", \"textfont\": {\"size\": 20}, \"name\": \"1870\", \"marker\": {\"colors\": [\"#eebcbc\", \"#bcc2f2\", \"#b25a86\", \"#546e85\"], \"line\": {\"color\": \"#000000\", \"width\": 2}}}, {\"type\": \"pie\", \"labels\": [\"Saturday\", \"Sunday\"], \"values\": [1, 2], \"hoverinfo\": \"label+percent\", \"textinfo\": \"value\", \"textfont\": {\"size\": 20}, \"name\": \"1880\", \"marker\": {\"colors\": [\"#b25a86\", \"#546e85\"], \"line\": {\"color\": \"#000000\", \"width\": 2}}}, {\"type\": \"pie\", \"labels\": [\"Wednesday\", \"Friday\", \"Sunday\"], \"values\": [1, 2, 2], \"hoverinfo\": \"label+percent\", \"textinfo\": \"value\", \"textfont\": {\"size\": 20}, \"name\": \"1890\", \"marker\": {\"colors\": [\"#c8ecb5\", \"#e8b6ee\", \"#546e85\"], \"line\": {\"color\": \"#000000\", \"width\": 2}}}, {\"type\": \"pie\", \"labels\": [\"Monday\", \"Thursday\", \"Sunday\"], \"values\": [1, 1, 2], \"hoverinfo\": \"label+percent\", \"textinfo\": \"value\", \"textfont\": {\"size\": 20}, \"name\": \"1900\", \"marker\": {\"colors\": [\"#eebcbc\", \"#bcc2f2\", \"#546e85\"], \"line\": {\"color\": \"#000000\", \"width\": 2}}}, {\"type\": \"pie\", \"labels\": [\"Monday\", \"Friday\", \"Sunday\"], \"values\": [3, 1, 1], \"hoverinfo\": \"label+percent\", \"textinfo\": \"value\", \"textfont\": {\"size\": 20}, \"name\": \"1910\", \"marker\": {\"colors\": [\"#eebcbc\", \"#e8b6ee\", \"#546e85\"], \"line\": {\"color\": \"#000000\", \"width\": 2}}}, {\"type\": \"pie\", \"labels\": [\"Tuesday\", \"Sunday\"], \"values\": [2, 1], \"hoverinfo\": \"label+percent\", \"textinfo\": \"value\", \"textfont\": {\"size\": 20}, \"name\": \"1920\", \"marker\": {\"colors\": [\"#eedeab\", \"#546e85\"], \"line\": {\"color\": \"#000000\", \"width\": 2}}}, {\"type\": \"pie\", \"labels\": [\"Friday\", \"Sunday\"], \"values\": [1, 7], \"hoverinfo\": \"label+percent\", \"textinfo\": \"value\", \"textfont\": {\"size\": 20}, \"name\": \"1930\", \"marker\": {\"colors\": [\"#e8b6ee\", \"#546e85\"], \"line\": {\"color\": \"#000000\", \"width\": 2}}}, {\"type\": \"pie\", \"labels\": [\"Monday\", \"Wednesday\", \"Thursday\", \"Sunday\"], \"values\": [1, 3, 2, 3], \"hoverinfo\": \"label+percent\", \"textinfo\": \"value\", \"textfont\": {\"size\": 20}, \"name\": \"1970\", \"marker\": {\"colors\": [\"#eebcbc\", \"#c8ecb5\", \"#bcc2f2\", \"#546e85\"], \"line\": {\"color\": \"#000000\", \"width\": 2}}}, {\"type\": \"pie\", \"labels\": [\"Tuesday\", \"Wednesday\", \"Thursday\", \"Friday\", \"Saturday\", \"Sunday\"], \"values\": [6, 2, 4, 3, 1, 10], \"hoverinfo\": \"label+percent\", \"textinfo\": \"value\", \"textfont\": {\"size\": 20}, \"name\": \"1980\", \"marker\": {\"colors\": [\"#eedeab\", \"#c8ecb5\", \"#bcc2f2\", \"#e8b6ee\", \"#b25a86\", \"#546e85\"], \"line\": {\"color\": \"#000000\", \"width\": 2}}}, {\"type\": \"pie\", \"labels\": [\"Tuesday\", \"Saturday\", \"Sunday\"], \"values\": [2, 1, 21], \"hoverinfo\": \"label+percent\", \"textinfo\": \"value\", \"textfont\": {\"size\": 20}, \"name\": \"1990\", \"marker\": {\"colors\": [\"#eedeab\", \"#b25a86\", \"#546e85\"], \"line\": {\"color\": \"#000000\", \"width\": 2}}}, {\"type\": \"pie\", \"labels\": [\"Monday\", \"Wednesday\", \"Saturday\", \"Sunday\"], \"values\": [1, 3, 1, 20], \"hoverinfo\": \"label+percent\", \"textinfo\": \"value\", \"textfont\": {\"size\": 20}, \"name\": \"2000\", \"marker\": {\"colors\": [\"#eebcbc\", \"#c8ecb5\", \"#b25a86\", \"#546e85\"], \"line\": {\"color\": \"#000000\", \"width\": 2}}}, {\"type\": \"pie\", \"labels\": [\"Sunday\"], \"values\": [17], \"hoverinfo\": \"label+percent\", \"textinfo\": \"value\", \"textfont\": {\"size\": 20}, \"name\": \"2010\", \"marker\": {\"colors\": [\"#546e85\"], \"line\": {\"color\": \"#000000\", \"width\": 2}}}, {\"type\": \"pie\", \"labels\": [\"Monday\", \"Tuesday\", \"Wednesday\", \"Thursday\", \"Friday\", \"Saturday\", \"Sunday\"], \"values\": [10, 12, 13, 11, 12, 9, 91], \"hoverinfo\": \"label+percent\", \"textinfo\": \"value\", \"textfont\": {\"size\": 20}, \"name\": \"Total\", \"marker\": {\"colors\": [\"#eebcbc\", \"#eedeab\", \"#c8ecb5\", \"#bcc2f2\", \"#e8b6ee\", \"#b25a86\", \"#546e85\"], \"line\": {\"color\": \"#000000\", \"width\": 2}}}], {\"title\": \"All elections or referendums celebrated in total since 1830\", \"showlegend\": true, \"updatemenus\": [{\"active\": 16, \"buttons\": [{\"label\": \"1830\", \"method\": \"update\", \"args\": [{\"visible\": [true, false, false, false, false, false, false, false, false, false, false, false, false, false, false, false, false]}, {\"title\": \"Elections or referendums celebrated during the decade: 1830\"}]}, {\"label\": \"1840\", \"method\": \"update\", \"args\": [{\"visible\": [false, true, false, false, false, false, false, false, false, false, false, false, false, false, false, false, false]}, {\"title\": \"Elections or referendums celebrated during the decade: 1840\"}]}, {\"label\": \"1850\", \"method\": \"update\", \"args\": [{\"visible\": [false, false, true, false, false, false, false, false, false, false, false, false, false, false, false, false, false]}, {\"title\": \"Elections or referendums celebrated during the decade: 1850\"}]}, {\"label\": \"1860\", \"method\": \"update\", \"args\": [{\"visible\": [false, false, false, true, false, false, false, false, false, false, false, false, false, false, false, false, false]}, {\"title\": \"Elections or referendums celebrated during the decade: 1860\"}]}, {\"label\": \"1870\", \"method\": \"update\", \"args\": [{\"visible\": [false, false, false, false, true, false, false, false, false, false, false, false, false, false, false, false, false]}, {\"title\": \"Elections or referendums celebrated during the decade: 1870\"}]}, {\"label\": \"1880\", \"method\": \"update\", \"args\": [{\"visible\": [false, false, false, false, false, true, false, false, false, false, false, false, false, false, false, false, false]}, {\"title\": \"Elections or referendums celebrated during the decade: 1880\"}]}, {\"label\": \"1890\", \"method\": \"update\", \"args\": [{\"visible\": [false, false, false, false, false, false, true, false, false, false, false, false, false, false, false, false, false]}, {\"title\": \"Elections or referendums celebrated during the decade: 1890\"}]}, {\"label\": \"1900\", \"method\": \"update\", \"args\": [{\"visible\": [false, false, false, false, false, false, false, true, false, false, false, false, false, false, false, false, false]}, {\"title\": \"Elections or referendums celebrated during the decade: 1900\"}]}, {\"label\": \"1910\", \"method\": \"update\", \"args\": [{\"visible\": [false, false, false, false, false, false, false, false, true, false, false, false, false, false, false, false, false]}, {\"title\": \"Elections or referendums celebrated during the decade: 1910\"}]}, {\"label\": \"1920\", \"method\": \"update\", \"args\": [{\"visible\": [false, false, false, false, false, false, false, false, false, true, false, false, false, false, false, false, false]}, {\"title\": \"Elections or referendums celebrated during the decade: 1920\"}]}, {\"label\": \"1930\", \"method\": \"update\", \"args\": [{\"visible\": [false, false, false, false, false, false, false, false, false, false, true, false, false, false, false, false, false]}, {\"title\": \"Elections or referendums celebrated during the decade: 1930\"}]}, {\"label\": \"1970\", \"method\": \"update\", \"args\": [{\"visible\": [false, false, false, false, false, false, false, false, false, false, false, true, false, false, false, false, false]}, {\"title\": \"Elections or referendums celebrated during the decade: 1970\"}]}, {\"label\": \"1980\", \"method\": \"update\", \"args\": [{\"visible\": [false, false, false, false, false, false, false, false, false, false, false, false, true, false, false, false, false]}, {\"title\": \"Elections or referendums celebrated during the decade: 1980\"}]}, {\"label\": \"1990\", \"method\": \"update\", \"args\": [{\"visible\": [false, false, false, false, false, false, false, false, false, false, false, false, false, true, false, false, false]}, {\"title\": \"Elections or referendums celebrated during the decade: 1990\"}]}, {\"label\": \"2000\", \"method\": \"update\", \"args\": [{\"visible\": [false, false, false, false, false, false, false, false, false, false, false, false, false, false, true, false, false]}, {\"title\": \"Elections or referendums celebrated during the decade: 2000\"}]}, {\"label\": \"2010\", \"method\": \"update\", \"args\": [{\"visible\": [false, false, false, false, false, false, false, false, false, false, false, false, false, false, false, true, false]}, {\"title\": \"Elections or referendums celebrated during the decade: 2010\"}]}, {\"label\": \"Total\", \"method\": \"update\", \"args\": [{\"visible\": [false, false, false, false, false, false, false, false, false, false, false, false, false, false, false, false, true]}, {\"title\": \"All elections or referendums celebrated in total since 1830\"}]}]}], \"width\": 600, \"height\": 620, \"annotations\": [{\"x\": 0.5, \"y\": 0, \"xshift\": 0, \"yshift\": 0, \"visible\": true, \"align\": \"center\", \"xref\": \"paper\", \"yref\": \"paper\", \"text\": \"Checkout the GitHub <a href=\\\"https://carlosvega.github.io/Weekday_ESP_Elections/\\\">repository</a> for more\", \"showarrow\": false, \"arrowhead\": 0}]}, {\"showLink\": true, \"linkText\": \"Export to plot.ly\"})});</script>"
      ],
      "text/vnd.plotly.v1+html": [
       "<div id=\"85ff54e7-91b4-4962-aa06-0247c3fd81c1\" style=\"height: 620px; width: 600px;\" class=\"plotly-graph-div\"></div><script type=\"text/javascript\">require([\"plotly\"], function(Plotly) { window.PLOTLYENV=window.PLOTLYENV || {};window.PLOTLYENV.BASE_URL=\"https://plot.ly\";Plotly.newPlot(\"85ff54e7-91b4-4962-aa06-0247c3fd81c1\", [{\"type\": \"pie\", \"labels\": [\"Monday\", \"Wednesday\", \"Friday\"], \"values\": [1, 3, 2], \"hoverinfo\": \"label+percent\", \"textinfo\": \"value\", \"textfont\": {\"size\": 20}, \"name\": \"1830\", \"marker\": {\"colors\": [\"#eebcbc\", \"#c8ecb5\", \"#e8b6ee\"], \"line\": {\"color\": \"#000000\", \"width\": 2}}}, {\"type\": \"pie\", \"labels\": [\"Monday\", \"Friday\", \"Saturday\", \"Sunday\"], \"values\": [1, 2, 2, 1], \"hoverinfo\": \"label+percent\", \"textinfo\": \"value\", \"textfont\": {\"size\": 20}, \"name\": \"1840\", \"marker\": {\"colors\": [\"#eebcbc\", \"#e8b6ee\", \"#b25a86\", \"#546e85\"], \"line\": {\"color\": \"#000000\", \"width\": 2}}}, {\"type\": \"pie\", \"labels\": [\"Monday\", \"Wednesday\", \"Saturday\", \"Sunday\"], \"values\": [1, 1, 2, 2], \"hoverinfo\": \"label+percent\", \"textinfo\": \"value\", \"textfont\": {\"size\": 20}, \"name\": \"1850\", \"marker\": {\"colors\": [\"#eebcbc\", \"#c8ecb5\", \"#b25a86\", \"#546e85\"], \"line\": {\"color\": \"#000000\", \"width\": 2}}}, {\"type\": \"pie\", \"labels\": [\"Tuesday\", \"Thursday\", \"Friday\"], \"values\": [2, 2, 1], \"hoverinfo\": \"label+percent\", \"textinfo\": \"value\", \"textfont\": {\"size\": 20}, \"name\": \"1860\", \"marker\": {\"colors\": [\"#eedeab\", \"#bcc2f2\", \"#e8b6ee\"], \"line\": {\"color\": \"#000000\", \"width\": 2}}}, {\"type\": \"pie\", \"labels\": [\"Monday\", \"Thursday\", \"Saturday\", \"Sunday\"], \"values\": [1, 2, 1, 2], \"hoverinfo\": \"label+percent\", \"textinfo\": \"value\", \"textfont\": {\"size\": 20}, \"name\": \"1870\", \"marker\": {\"colors\": [\"#eebcbc\", \"#bcc2f2\", \"#b25a86\", \"#546e85\"], \"line\": {\"color\": \"#000000\", \"width\": 2}}}, {\"type\": \"pie\", \"labels\": [\"Saturday\", \"Sunday\"], \"values\": [1, 2], \"hoverinfo\": \"label+percent\", \"textinfo\": \"value\", \"textfont\": {\"size\": 20}, \"name\": \"1880\", \"marker\": {\"colors\": [\"#b25a86\", \"#546e85\"], \"line\": {\"color\": \"#000000\", \"width\": 2}}}, {\"type\": \"pie\", \"labels\": [\"Wednesday\", \"Friday\", \"Sunday\"], \"values\": [1, 2, 2], \"hoverinfo\": \"label+percent\", \"textinfo\": \"value\", \"textfont\": {\"size\": 20}, \"name\": \"1890\", \"marker\": {\"colors\": [\"#c8ecb5\", \"#e8b6ee\", \"#546e85\"], \"line\": {\"color\": \"#000000\", \"width\": 2}}}, {\"type\": \"pie\", \"labels\": [\"Monday\", \"Thursday\", \"Sunday\"], \"values\": [1, 1, 2], \"hoverinfo\": \"label+percent\", \"textinfo\": \"value\", \"textfont\": {\"size\": 20}, \"name\": \"1900\", \"marker\": {\"colors\": [\"#eebcbc\", \"#bcc2f2\", \"#546e85\"], \"line\": {\"color\": \"#000000\", \"width\": 2}}}, {\"type\": \"pie\", \"labels\": [\"Monday\", \"Friday\", \"Sunday\"], \"values\": [3, 1, 1], \"hoverinfo\": \"label+percent\", \"textinfo\": \"value\", \"textfont\": {\"size\": 20}, \"name\": \"1910\", \"marker\": {\"colors\": [\"#eebcbc\", \"#e8b6ee\", \"#546e85\"], \"line\": {\"color\": \"#000000\", \"width\": 2}}}, {\"type\": \"pie\", \"labels\": [\"Tuesday\", \"Sunday\"], \"values\": [2, 1], \"hoverinfo\": \"label+percent\", \"textinfo\": \"value\", \"textfont\": {\"size\": 20}, \"name\": \"1920\", \"marker\": {\"colors\": [\"#eedeab\", \"#546e85\"], \"line\": {\"color\": \"#000000\", \"width\": 2}}}, {\"type\": \"pie\", \"labels\": [\"Friday\", \"Sunday\"], \"values\": [1, 7], \"hoverinfo\": \"label+percent\", \"textinfo\": \"value\", \"textfont\": {\"size\": 20}, \"name\": \"1930\", \"marker\": {\"colors\": [\"#e8b6ee\", \"#546e85\"], \"line\": {\"color\": \"#000000\", \"width\": 2}}}, {\"type\": \"pie\", \"labels\": [\"Monday\", \"Wednesday\", \"Thursday\", \"Sunday\"], \"values\": [1, 3, 2, 3], \"hoverinfo\": \"label+percent\", \"textinfo\": \"value\", \"textfont\": {\"size\": 20}, \"name\": \"1970\", \"marker\": {\"colors\": [\"#eebcbc\", \"#c8ecb5\", \"#bcc2f2\", \"#546e85\"], \"line\": {\"color\": \"#000000\", \"width\": 2}}}, {\"type\": \"pie\", \"labels\": [\"Tuesday\", \"Wednesday\", \"Thursday\", \"Friday\", \"Saturday\", \"Sunday\"], \"values\": [6, 2, 4, 3, 1, 10], \"hoverinfo\": \"label+percent\", \"textinfo\": \"value\", \"textfont\": {\"size\": 20}, \"name\": \"1980\", \"marker\": {\"colors\": [\"#eedeab\", \"#c8ecb5\", \"#bcc2f2\", \"#e8b6ee\", \"#b25a86\", \"#546e85\"], \"line\": {\"color\": \"#000000\", \"width\": 2}}}, {\"type\": \"pie\", \"labels\": [\"Tuesday\", \"Saturday\", \"Sunday\"], \"values\": [2, 1, 21], \"hoverinfo\": \"label+percent\", \"textinfo\": \"value\", \"textfont\": {\"size\": 20}, \"name\": \"1990\", \"marker\": {\"colors\": [\"#eedeab\", \"#b25a86\", \"#546e85\"], \"line\": {\"color\": \"#000000\", \"width\": 2}}}, {\"type\": \"pie\", \"labels\": [\"Monday\", \"Wednesday\", \"Saturday\", \"Sunday\"], \"values\": [1, 3, 1, 20], \"hoverinfo\": \"label+percent\", \"textinfo\": \"value\", \"textfont\": {\"size\": 20}, \"name\": \"2000\", \"marker\": {\"colors\": [\"#eebcbc\", \"#c8ecb5\", \"#b25a86\", \"#546e85\"], \"line\": {\"color\": \"#000000\", \"width\": 2}}}, {\"type\": \"pie\", \"labels\": [\"Sunday\"], \"values\": [17], \"hoverinfo\": \"label+percent\", \"textinfo\": \"value\", \"textfont\": {\"size\": 20}, \"name\": \"2010\", \"marker\": {\"colors\": [\"#546e85\"], \"line\": {\"color\": \"#000000\", \"width\": 2}}}, {\"type\": \"pie\", \"labels\": [\"Monday\", \"Tuesday\", \"Wednesday\", \"Thursday\", \"Friday\", \"Saturday\", \"Sunday\"], \"values\": [10, 12, 13, 11, 12, 9, 91], \"hoverinfo\": \"label+percent\", \"textinfo\": \"value\", \"textfont\": {\"size\": 20}, \"name\": \"Total\", \"marker\": {\"colors\": [\"#eebcbc\", \"#eedeab\", \"#c8ecb5\", \"#bcc2f2\", \"#e8b6ee\", \"#b25a86\", \"#546e85\"], \"line\": {\"color\": \"#000000\", \"width\": 2}}}], {\"title\": \"All elections or referendums celebrated in total since 1830\", \"showlegend\": true, \"updatemenus\": [{\"active\": 16, \"buttons\": [{\"label\": \"1830\", \"method\": \"update\", \"args\": [{\"visible\": [true, false, false, false, false, false, false, false, false, false, false, false, false, false, false, false, false]}, {\"title\": \"Elections or referendums celebrated during the decade: 1830\"}]}, {\"label\": \"1840\", \"method\": \"update\", \"args\": [{\"visible\": [false, true, false, false, false, false, false, false, false, false, false, false, false, false, false, false, false]}, {\"title\": \"Elections or referendums celebrated during the decade: 1840\"}]}, {\"label\": \"1850\", \"method\": \"update\", \"args\": [{\"visible\": [false, false, true, false, false, false, false, false, false, false, false, false, false, false, false, false, false]}, {\"title\": \"Elections or referendums celebrated during the decade: 1850\"}]}, {\"label\": \"1860\", \"method\": \"update\", \"args\": [{\"visible\": [false, false, false, true, false, false, false, false, false, false, false, false, false, false, false, false, false]}, {\"title\": \"Elections or referendums celebrated during the decade: 1860\"}]}, {\"label\": \"1870\", \"method\": \"update\", \"args\": [{\"visible\": [false, false, false, false, true, false, false, false, false, false, false, false, false, false, false, false, false]}, {\"title\": \"Elections or referendums celebrated during the decade: 1870\"}]}, {\"label\": \"1880\", \"method\": \"update\", \"args\": [{\"visible\": [false, false, false, false, false, true, false, false, false, false, false, false, false, false, false, false, false]}, {\"title\": \"Elections or referendums celebrated during the decade: 1880\"}]}, {\"label\": \"1890\", \"method\": \"update\", \"args\": [{\"visible\": [false, false, false, false, false, false, true, false, false, false, false, false, false, false, false, false, false]}, {\"title\": \"Elections or referendums celebrated during the decade: 1890\"}]}, {\"label\": \"1900\", \"method\": \"update\", \"args\": [{\"visible\": [false, false, false, false, false, false, false, true, false, false, false, false, false, false, false, false, false]}, {\"title\": \"Elections or referendums celebrated during the decade: 1900\"}]}, {\"label\": \"1910\", \"method\": \"update\", \"args\": [{\"visible\": [false, false, false, false, false, false, false, false, true, false, false, false, false, false, false, false, false]}, {\"title\": \"Elections or referendums celebrated during the decade: 1910\"}]}, {\"label\": \"1920\", \"method\": \"update\", \"args\": [{\"visible\": [false, false, false, false, false, false, false, false, false, true, false, false, false, false, false, false, false]}, {\"title\": \"Elections or referendums celebrated during the decade: 1920\"}]}, {\"label\": \"1930\", \"method\": \"update\", \"args\": [{\"visible\": [false, false, false, false, false, false, false, false, false, false, true, false, false, false, false, false, false]}, {\"title\": \"Elections or referendums celebrated during the decade: 1930\"}]}, {\"label\": \"1970\", \"method\": \"update\", \"args\": [{\"visible\": [false, false, false, false, false, false, false, false, false, false, false, true, false, false, false, false, false]}, {\"title\": \"Elections or referendums celebrated during the decade: 1970\"}]}, {\"label\": \"1980\", \"method\": \"update\", \"args\": [{\"visible\": [false, false, false, false, false, false, false, false, false, false, false, false, true, false, false, false, false]}, {\"title\": \"Elections or referendums celebrated during the decade: 1980\"}]}, {\"label\": \"1990\", \"method\": \"update\", \"args\": [{\"visible\": [false, false, false, false, false, false, false, false, false, false, false, false, false, true, false, false, false]}, {\"title\": \"Elections or referendums celebrated during the decade: 1990\"}]}, {\"label\": \"2000\", \"method\": \"update\", \"args\": [{\"visible\": [false, false, false, false, false, false, false, false, false, false, false, false, false, false, true, false, false]}, {\"title\": \"Elections or referendums celebrated during the decade: 2000\"}]}, {\"label\": \"2010\", \"method\": \"update\", \"args\": [{\"visible\": [false, false, false, false, false, false, false, false, false, false, false, false, false, false, false, true, false]}, {\"title\": \"Elections or referendums celebrated during the decade: 2010\"}]}, {\"label\": \"Total\", \"method\": \"update\", \"args\": [{\"visible\": [false, false, false, false, false, false, false, false, false, false, false, false, false, false, false, false, true]}, {\"title\": \"All elections or referendums celebrated in total since 1830\"}]}]}], \"width\": 600, \"height\": 620, \"annotations\": [{\"x\": 0.5, \"y\": 0, \"xshift\": 0, \"yshift\": 0, \"visible\": true, \"align\": \"center\", \"xref\": \"paper\", \"yref\": \"paper\", \"text\": \"Checkout the GitHub <a href=\\\"https://carlosvega.github.io/Weekday_ESP_Elections/\\\">repository</a> for more\", \"showarrow\": false, \"arrowhead\": 0}]}, {\"showLink\": true, \"linkText\": \"Export to plot.ly\"})});</script>"
      ]
     },
     "metadata": {},
     "output_type": "display_data"
    },
    {
     "name": "stderr",
     "output_type": "stream",
     "text": [
      "/usr/local/lib/python3.6/site-packages/plotly/offline/offline.py:459: UserWarning:\n",
      "\n",
      "Your filename `docs/styled_pie_chart` didn't end with .html. Adding .html to the end of your file.\n",
      "\n"
     ]
    },
    {
     "data": {
      "text/plain": [
       "'file:///Users/carlosvega/wespe/docs/styled_pie_chart.html'"
      ]
     },
     "execution_count": 33,
     "metadata": {},
     "output_type": "execute_result"
    }
   ],
   "source": [
    "updatemenus = list([\n",
    "    dict(active=len(traces)-1,\n",
    "         buttons=button_list,\n",
    "    )\n",
    "])\n",
    "\n",
    "layout = dict(title='All elections or referendums celebrated in total since 1830', \n",
    "              showlegend=True, updatemenus=updatemenus, width=600, height=620,\n",
    "             annotations=[\n",
    "        dict(\n",
    "            x=0.5,\n",
    "            y=0,\n",
    "            xshift=0,\n",
    "            yshift=0,\n",
    "            visible= True,\n",
    "            align='center',\n",
    "            xref='paper',\n",
    "            yref='paper',\n",
    "            text='Checkout the GitHub <a href=\"https://carlosvega.github.io/Weekday_ESP_Elections/\">repository</a> for more',\n",
    "            showarrow=False,\n",
    "            arrowhead=0\n",
    "        )\n",
    "    ])\n",
    "\n",
    "fig = dict(data=traces, layout=layout)\n",
    "\n",
    "iplot(fig, filename='styled_pie_chart')\n",
    "plot(fig, filename='docs/styled_pie_chart', auto_open=False)"
   ]
  },
  {
   "cell_type": "code",
   "execution_count": null,
   "metadata": {
    "collapsed": true
   },
   "outputs": [],
   "source": [
    "1830 [1, 3, 2] ['Monday', 'Wednesday', 'Friday']\n",
    "1840 [1, 2, 2, 1] ['Monday', 'Friday', 'Saturday', 'Sunday']\n",
    "1850 [1, 1, 2, 2] ['Monday', 'Wednesday', 'Saturday', 'Sunday']\n",
    "1860 [2, 2, 1] ['Tuesday', 'Thursday', 'Friday']\n",
    "1870 [1, 2, 1, 2] ['Monday', 'Thursday', 'Saturday', 'Sunday']\n",
    "1880 [1, 2] ['Saturday', 'Sunday']\n",
    "1890 [1, 2, 2] ['Wednesday', 'Friday', 'Sunday']\n",
    "1900 [1, 1, 2] ['Monday', 'Thursday', 'Sunday']\n",
    "1910 [3, 1, 1] ['Monday', 'Friday', 'Sunday']\n",
    "1920 [2, 1] ['Tuesday', 'Sunday']\n",
    "1930 [1, 7] ['Friday', 'Sunday']\n",
    "1970 [1, 3, 2, 3] ['Monday', 'Wednesday', 'Thursday', 'Sunday']\n",
    "1980 [6, 2, 4, 3, 1, 10] ['Tuesday', 'Wednesday', 'Thursday', 'Friday', 'Saturday', 'Sunday']\n",
    "1990 [2, 1, 21] ['Tuesday', 'Saturday', 'Sunday']\n",
    "2000 [1, 3, 1, 20] ['Monday', 'Wednesday', 'Saturday', 'Sunday']\n",
    "2010 [17] ['Sunday']"
   ]
  },
  {
   "cell_type": "code",
   "execution_count": null,
   "metadata": {
    "collapsed": true
   },
   "outputs": [],
   "source": []
  },
  {
   "cell_type": "code",
   "execution_count": null,
   "metadata": {
    "collapsed": true
   },
   "outputs": [],
   "source": []
  },
  {
   "cell_type": "code",
   "execution_count": null,
   "metadata": {
    "collapsed": true
   },
   "outputs": [],
   "source": []
  }
 ],
 "metadata": {
  "kernelspec": {
   "display_name": "Python 3",
   "language": "python",
   "name": "python3"
  },
  "language_info": {
   "codemirror_mode": {
    "name": "ipython",
    "version": 3
   },
   "file_extension": ".py",
   "mimetype": "text/x-python",
   "name": "python",
   "nbconvert_exporter": "python",
   "pygments_lexer": "ipython3",
   "version": "3.6.2"
  }
 },
 "nbformat": 4,
 "nbformat_minor": 2
}
